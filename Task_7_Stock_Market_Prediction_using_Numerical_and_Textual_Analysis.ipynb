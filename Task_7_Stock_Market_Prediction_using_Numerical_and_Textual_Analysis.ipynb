{
  "nbformat": 4,
  "nbformat_minor": 0,
  "metadata": {
    "kernelspec": {
      "display_name": "Python 3",
      "language": "python",
      "name": "python3"
    },
    "language_info": {
      "codemirror_mode": {
        "name": "ipython",
        "version": 3
      },
      "file_extension": ".py",
      "mimetype": "text/x-python",
      "name": "python",
      "nbconvert_exporter": "python",
      "pygments_lexer": "ipython3",
      "version": "3.7.0"
    },
    "colab": {
      "name": "Task 7- Stock-Market-Prediction-using-Numerical-and-Textual-Analysis.ipynb",
      "provenance": [],
      "include_colab_link": true
    }
  },
  "cells": [
    {
      "cell_type": "markdown",
      "metadata": {
        "id": "view-in-github",
        "colab_type": "text"
      },
      "source": [
        "<a href=\"https://colab.research.google.com/github/Vishalbangari/Spark-Foundation-tasks/blob/main/Task_7_Stock_Market_Prediction_using_Numerical_and_Textual_Analysis.ipynb\" target=\"_parent\"><img src=\"https://colab.research.google.com/assets/colab-badge.svg\" alt=\"Open In Colab\"/></a>"
      ]
    },
    {
      "cell_type": "markdown",
      "metadata": {
        "id": "FFoFKMMR2W32"
      },
      "source": [
        "# Author: Bangari Vishal"
      ]
    },
    {
      "cell_type": "markdown",
      "metadata": {
        "id": "fsIp_Ypq2W36"
      },
      "source": [
        "## Task7 : #7 STOCK MARKET PREDICTION USING NUMERICAL AND TEXTUAL ANALYSIS"
      ]
    },
    {
      "cell_type": "markdown",
      "metadata": {
        "id": "4S0nuVM72W37"
      },
      "source": [
        "### Task :\n",
        "* Create a hybrid model for stock price/performance prediction using numerical analysis of historical stock prices, and   sentimental analysis of news headlines"
      ]
    },
    {
      "cell_type": "markdown",
      "metadata": {
        "id": "Mb6GTuej2W38"
      },
      "source": [
        "\n",
        "1.   List item\n",
        "2.   List item\n",
        "\n"
      ]
    },
    {
      "cell_type": "markdown",
      "metadata": {
        "id": "KVu7CpJ_2W39"
      },
      "source": [
        "* In this I have predicted if a companies stock will increase or decrease based on news headlines using sentiment analysis.\n",
        "\n",
        "* This model will determine if the price of a stock will increase or decrease based on the sentiment of top news article headlines for the current day using Python and machine learning.\n",
        "\n",
        "* I have used both numerical and textual data for this.\n",
        "\n",
        " (i) Time series analysis is performed on the Stock data.\n",
        " \n",
        " (ii) Sentiment analysis is performed on the News data.\n",
        " \n",
        " (iii) An analysis is performed by merging both the data to predict if the Close price of the stock will increase or decrease.\n",
        "\n"
      ]
    },
    {
      "cell_type": "markdown",
      "metadata": {
        "id": "DhZOuPgL2W3-"
      },
      "source": [
        "   ## Stock Market Prediction"
      ]
    },
    {
      "cell_type": "code",
      "metadata": {
        "id": "12uUkA5v2W4A"
      },
      "source": [
        "import pandas as pd\n",
        "import numpy as np\n",
        "import matplotlib.pyplot as plt\n",
        "import pylab as pl\n",
        "%matplotlib inline\n",
        "import seaborn as sns\n",
        "import datetime\n",
        "import pandas_datareader.data as web\n",
        "import matplotlib as mpl\n",
        "from matplotlib import style\n",
        "import warnings\n",
        "warnings.simplefilter(action='ignore', category=FutureWarning)\n",
        "warnings.filterwarnings('ignore')\n",
        "\n",
        "from statsmodels.tsa.stattools import adfuller, acf, pacf\n",
        "from statsmodels.tsa.arima_model import ARIMA\n",
        "from sklearn.metrics import mean_squared_error, mean_absolute_error,r2_score\n",
        "from statsmodels.tsa.seasonal import seasonal_decompose\n",
        "\n",
        "\n",
        "from textblob import TextBlob\n",
        "from matplotlib.pyplot import figure\n",
        "from matplotlib import rcParams\n",
        "import plotly.express as px\n",
        "from wordcloud import WordCloud, STOPWORDS\n",
        "from nltk.sentiment.vader import SentimentIntensityAnalyzer\n",
        "import nltk\n",
        "\n",
        "from sklearn.tree import DecisionTreeRegressor\n",
        "from sklearn.ensemble import RandomForestRegressor, AdaBoostRegressor\n",
        "import xgboost \n",
        "import lightgbm"
      ],
      "execution_count": 102,
      "outputs": []
    },
    {
      "cell_type": "markdown",
      "metadata": {
        "id": "YeVvvckZ2W4B"
      },
      "source": [
        "## Importing stocks data from web"
      ]
    },
    {
      "cell_type": "code",
      "metadata": {
        "id": "j7voOZSJ2W4C"
      },
      "source": [
        "start = datetime.datetime(2010, 1, 1)\n",
        "end = datetime.datetime.today()"
      ],
      "execution_count": 103,
      "outputs": []
    },
    {
      "cell_type": "code",
      "metadata": {
        "id": "z1q6v93Z2W4C"
      },
      "source": [
        "stocks = web.DataReader(\"AAPL\", 'yahoo', start, end)"
      ],
      "execution_count": 104,
      "outputs": []
    },
    {
      "cell_type": "code",
      "metadata": {
        "colab": {
          "base_uri": "https://localhost:8080/"
        },
        "id": "Ru1aMzK42W4D",
        "outputId": "01775327-cd38-476b-df83-b86cdd040762"
      },
      "source": [
        "stocks.info()"
      ],
      "execution_count": 105,
      "outputs": [
        {
          "output_type": "stream",
          "text": [
            "<class 'pandas.core.frame.DataFrame'>\n",
            "DatetimeIndex: 2886 entries, 2010-01-04 to 2021-06-21\n",
            "Data columns (total 6 columns):\n",
            " #   Column     Non-Null Count  Dtype  \n",
            "---  ------     --------------  -----  \n",
            " 0   High       2886 non-null   float64\n",
            " 1   Low        2886 non-null   float64\n",
            " 2   Open       2886 non-null   float64\n",
            " 3   Close      2886 non-null   float64\n",
            " 4   Volume     2886 non-null   float64\n",
            " 5   Adj Close  2886 non-null   float64\n",
            "dtypes: float64(6)\n",
            "memory usage: 157.8 KB\n"
          ],
          "name": "stdout"
        }
      ]
    },
    {
      "cell_type": "code",
      "metadata": {
        "colab": {
          "base_uri": "https://localhost:8080/",
          "height": 234
        },
        "id": "dpgyOzjf2W4D",
        "outputId": "1edcbdf3-cf3d-4da4-8dac-d0700c7a44d9"
      },
      "source": [
        "stocks.head()"
      ],
      "execution_count": 106,
      "outputs": [
        {
          "output_type": "execute_result",
          "data": {
            "text/html": [
              "<div>\n",
              "<style scoped>\n",
              "    .dataframe tbody tr th:only-of-type {\n",
              "        vertical-align: middle;\n",
              "    }\n",
              "\n",
              "    .dataframe tbody tr th {\n",
              "        vertical-align: top;\n",
              "    }\n",
              "\n",
              "    .dataframe thead th {\n",
              "        text-align: right;\n",
              "    }\n",
              "</style>\n",
              "<table border=\"1\" class=\"dataframe\">\n",
              "  <thead>\n",
              "    <tr style=\"text-align: right;\">\n",
              "      <th></th>\n",
              "      <th>High</th>\n",
              "      <th>Low</th>\n",
              "      <th>Open</th>\n",
              "      <th>Close</th>\n",
              "      <th>Volume</th>\n",
              "      <th>Adj Close</th>\n",
              "    </tr>\n",
              "    <tr>\n",
              "      <th>Date</th>\n",
              "      <th></th>\n",
              "      <th></th>\n",
              "      <th></th>\n",
              "      <th></th>\n",
              "      <th></th>\n",
              "      <th></th>\n",
              "    </tr>\n",
              "  </thead>\n",
              "  <tbody>\n",
              "    <tr>\n",
              "      <th>2010-01-04</th>\n",
              "      <td>7.660714</td>\n",
              "      <td>7.585000</td>\n",
              "      <td>7.622500</td>\n",
              "      <td>7.643214</td>\n",
              "      <td>493729600.0</td>\n",
              "      <td>6.572422</td>\n",
              "    </tr>\n",
              "    <tr>\n",
              "      <th>2010-01-05</th>\n",
              "      <td>7.699643</td>\n",
              "      <td>7.616071</td>\n",
              "      <td>7.664286</td>\n",
              "      <td>7.656429</td>\n",
              "      <td>601904800.0</td>\n",
              "      <td>6.583784</td>\n",
              "    </tr>\n",
              "    <tr>\n",
              "      <th>2010-01-06</th>\n",
              "      <td>7.686786</td>\n",
              "      <td>7.526786</td>\n",
              "      <td>7.656429</td>\n",
              "      <td>7.534643</td>\n",
              "      <td>552160000.0</td>\n",
              "      <td>6.479061</td>\n",
              "    </tr>\n",
              "    <tr>\n",
              "      <th>2010-01-07</th>\n",
              "      <td>7.571429</td>\n",
              "      <td>7.466071</td>\n",
              "      <td>7.562500</td>\n",
              "      <td>7.520714</td>\n",
              "      <td>477131200.0</td>\n",
              "      <td>6.467082</td>\n",
              "    </tr>\n",
              "    <tr>\n",
              "      <th>2010-01-08</th>\n",
              "      <td>7.571429</td>\n",
              "      <td>7.466429</td>\n",
              "      <td>7.510714</td>\n",
              "      <td>7.570714</td>\n",
              "      <td>447610800.0</td>\n",
              "      <td>6.510078</td>\n",
              "    </tr>\n",
              "  </tbody>\n",
              "</table>\n",
              "</div>"
            ],
            "text/plain": [
              "                High       Low      Open     Close       Volume  Adj Close\n",
              "Date                                                                      \n",
              "2010-01-04  7.660714  7.585000  7.622500  7.643214  493729600.0   6.572422\n",
              "2010-01-05  7.699643  7.616071  7.664286  7.656429  601904800.0   6.583784\n",
              "2010-01-06  7.686786  7.526786  7.656429  7.534643  552160000.0   6.479061\n",
              "2010-01-07  7.571429  7.466071  7.562500  7.520714  477131200.0   6.467082\n",
              "2010-01-08  7.571429  7.466429  7.510714  7.570714  447610800.0   6.510078"
            ]
          },
          "metadata": {
            "tags": []
          },
          "execution_count": 106
        }
      ]
    },
    {
      "cell_type": "code",
      "metadata": {
        "id": "UtrITlLj2W4E"
      },
      "source": [
        "stocks.reset_index(inplace=True)"
      ],
      "execution_count": 107,
      "outputs": []
    },
    {
      "cell_type": "code",
      "metadata": {
        "colab": {
          "base_uri": "https://localhost:8080/",
          "height": 203
        },
        "id": "IGISrS_32W4E",
        "outputId": "21db4d07-b02e-41ba-990c-2e2be8edf2f3"
      },
      "source": [
        "stocks.tail()"
      ],
      "execution_count": 108,
      "outputs": [
        {
          "output_type": "execute_result",
          "data": {
            "text/html": [
              "<div>\n",
              "<style scoped>\n",
              "    .dataframe tbody tr th:only-of-type {\n",
              "        vertical-align: middle;\n",
              "    }\n",
              "\n",
              "    .dataframe tbody tr th {\n",
              "        vertical-align: top;\n",
              "    }\n",
              "\n",
              "    .dataframe thead th {\n",
              "        text-align: right;\n",
              "    }\n",
              "</style>\n",
              "<table border=\"1\" class=\"dataframe\">\n",
              "  <thead>\n",
              "    <tr style=\"text-align: right;\">\n",
              "      <th></th>\n",
              "      <th>Date</th>\n",
              "      <th>High</th>\n",
              "      <th>Low</th>\n",
              "      <th>Open</th>\n",
              "      <th>Close</th>\n",
              "      <th>Volume</th>\n",
              "      <th>Adj Close</th>\n",
              "    </tr>\n",
              "  </thead>\n",
              "  <tbody>\n",
              "    <tr>\n",
              "      <th>2881</th>\n",
              "      <td>2021-06-15</td>\n",
              "      <td>130.600006</td>\n",
              "      <td>129.389999</td>\n",
              "      <td>129.940002</td>\n",
              "      <td>129.639999</td>\n",
              "      <td>62746300.0</td>\n",
              "      <td>129.639999</td>\n",
              "    </tr>\n",
              "    <tr>\n",
              "      <th>2882</th>\n",
              "      <td>2021-06-16</td>\n",
              "      <td>130.889999</td>\n",
              "      <td>128.460007</td>\n",
              "      <td>130.369995</td>\n",
              "      <td>130.149994</td>\n",
              "      <td>91815000.0</td>\n",
              "      <td>130.149994</td>\n",
              "    </tr>\n",
              "    <tr>\n",
              "      <th>2883</th>\n",
              "      <td>2021-06-17</td>\n",
              "      <td>132.550003</td>\n",
              "      <td>129.649994</td>\n",
              "      <td>129.800003</td>\n",
              "      <td>131.789993</td>\n",
              "      <td>96721700.0</td>\n",
              "      <td>131.789993</td>\n",
              "    </tr>\n",
              "    <tr>\n",
              "      <th>2884</th>\n",
              "      <td>2021-06-18</td>\n",
              "      <td>131.509995</td>\n",
              "      <td>130.240005</td>\n",
              "      <td>130.710007</td>\n",
              "      <td>130.460007</td>\n",
              "      <td>108787300.0</td>\n",
              "      <td>130.460007</td>\n",
              "    </tr>\n",
              "    <tr>\n",
              "      <th>2885</th>\n",
              "      <td>2021-06-21</td>\n",
              "      <td>131.580002</td>\n",
              "      <td>129.211807</td>\n",
              "      <td>130.300003</td>\n",
              "      <td>131.537796</td>\n",
              "      <td>26988460.0</td>\n",
              "      <td>131.537796</td>\n",
              "    </tr>\n",
              "  </tbody>\n",
              "</table>\n",
              "</div>"
            ],
            "text/plain": [
              "           Date        High         Low  ...       Close       Volume   Adj Close\n",
              "2881 2021-06-15  130.600006  129.389999  ...  129.639999   62746300.0  129.639999\n",
              "2882 2021-06-16  130.889999  128.460007  ...  130.149994   91815000.0  130.149994\n",
              "2883 2021-06-17  132.550003  129.649994  ...  131.789993   96721700.0  131.789993\n",
              "2884 2021-06-18  131.509995  130.240005  ...  130.460007  108787300.0  130.460007\n",
              "2885 2021-06-21  131.580002  129.211807  ...  131.537796   26988460.0  131.537796\n",
              "\n",
              "[5 rows x 7 columns]"
            ]
          },
          "metadata": {
            "tags": []
          },
          "execution_count": 108
        }
      ]
    },
    {
      "cell_type": "code",
      "metadata": {
        "colab": {
          "base_uri": "https://localhost:8080/"
        },
        "id": "YJkohFej2W4F",
        "outputId": "c0c2fe9c-339a-45e2-d118-aba221879a4d"
      },
      "source": [
        "stocks.shape"
      ],
      "execution_count": 109,
      "outputs": [
        {
          "output_type": "execute_result",
          "data": {
            "text/plain": [
              "(2886, 7)"
            ]
          },
          "metadata": {
            "tags": []
          },
          "execution_count": 109
        }
      ]
    },
    {
      "cell_type": "code",
      "metadata": {
        "colab": {
          "base_uri": "https://localhost:8080/",
          "height": 295
        },
        "id": "1fygsnRf2W4F",
        "outputId": "2e0f8dea-0f51-409a-f983-cc63b2cc5f1d"
      },
      "source": [
        "stocks.describe()"
      ],
      "execution_count": 110,
      "outputs": [
        {
          "output_type": "execute_result",
          "data": {
            "text/html": [
              "<div>\n",
              "<style scoped>\n",
              "    .dataframe tbody tr th:only-of-type {\n",
              "        vertical-align: middle;\n",
              "    }\n",
              "\n",
              "    .dataframe tbody tr th {\n",
              "        vertical-align: top;\n",
              "    }\n",
              "\n",
              "    .dataframe thead th {\n",
              "        text-align: right;\n",
              "    }\n",
              "</style>\n",
              "<table border=\"1\" class=\"dataframe\">\n",
              "  <thead>\n",
              "    <tr style=\"text-align: right;\">\n",
              "      <th></th>\n",
              "      <th>High</th>\n",
              "      <th>Low</th>\n",
              "      <th>Open</th>\n",
              "      <th>Close</th>\n",
              "      <th>Volume</th>\n",
              "      <th>Adj Close</th>\n",
              "    </tr>\n",
              "  </thead>\n",
              "  <tbody>\n",
              "    <tr>\n",
              "      <th>count</th>\n",
              "      <td>2886.000000</td>\n",
              "      <td>2886.000000</td>\n",
              "      <td>2886.000000</td>\n",
              "      <td>2886.000000</td>\n",
              "      <td>2.886000e+03</td>\n",
              "      <td>2886.000000</td>\n",
              "    </tr>\n",
              "    <tr>\n",
              "      <th>mean</th>\n",
              "      <td>38.003632</td>\n",
              "      <td>37.215354</td>\n",
              "      <td>37.614454</td>\n",
              "      <td>37.622885</td>\n",
              "      <td>2.789521e+08</td>\n",
              "      <td>35.926260</td>\n",
              "    </tr>\n",
              "    <tr>\n",
              "      <th>std</th>\n",
              "      <td>30.886360</td>\n",
              "      <td>30.102790</td>\n",
              "      <td>30.511417</td>\n",
              "      <td>30.505818</td>\n",
              "      <td>2.274084e+08</td>\n",
              "      <td>31.000892</td>\n",
              "    </tr>\n",
              "    <tr>\n",
              "      <th>min</th>\n",
              "      <td>7.000000</td>\n",
              "      <td>6.794643</td>\n",
              "      <td>6.870357</td>\n",
              "      <td>6.858929</td>\n",
              "      <td>2.698846e+07</td>\n",
              "      <td>5.898012</td>\n",
              "    </tr>\n",
              "    <tr>\n",
              "      <th>25%</th>\n",
              "      <td>18.127054</td>\n",
              "      <td>17.830268</td>\n",
              "      <td>17.976786</td>\n",
              "      <td>17.940625</td>\n",
              "      <td>1.144490e+08</td>\n",
              "      <td>15.799193</td>\n",
              "    </tr>\n",
              "    <tr>\n",
              "      <th>50%</th>\n",
              "      <td>27.882500</td>\n",
              "      <td>27.262500</td>\n",
              "      <td>27.557501</td>\n",
              "      <td>27.545000</td>\n",
              "      <td>1.950176e+08</td>\n",
              "      <td>25.521913</td>\n",
              "    </tr>\n",
              "    <tr>\n",
              "      <th>75%</th>\n",
              "      <td>45.051251</td>\n",
              "      <td>44.248125</td>\n",
              "      <td>44.632499</td>\n",
              "      <td>44.613751</td>\n",
              "      <td>3.803863e+08</td>\n",
              "      <td>43.067008</td>\n",
              "    </tr>\n",
              "    <tr>\n",
              "      <th>max</th>\n",
              "      <td>145.089996</td>\n",
              "      <td>141.369995</td>\n",
              "      <td>143.600006</td>\n",
              "      <td>143.160004</td>\n",
              "      <td>1.880998e+09</td>\n",
              "      <td>142.704010</td>\n",
              "    </tr>\n",
              "  </tbody>\n",
              "</table>\n",
              "</div>"
            ],
            "text/plain": [
              "              High          Low  ...        Volume    Adj Close\n",
              "count  2886.000000  2886.000000  ...  2.886000e+03  2886.000000\n",
              "mean     38.003632    37.215354  ...  2.789521e+08    35.926260\n",
              "std      30.886360    30.102790  ...  2.274084e+08    31.000892\n",
              "min       7.000000     6.794643  ...  2.698846e+07     5.898012\n",
              "25%      18.127054    17.830268  ...  1.144490e+08    15.799193\n",
              "50%      27.882500    27.262500  ...  1.950176e+08    25.521913\n",
              "75%      45.051251    44.248125  ...  3.803863e+08    43.067008\n",
              "max     145.089996   141.369995  ...  1.880998e+09   142.704010\n",
              "\n",
              "[8 rows x 6 columns]"
            ]
          },
          "metadata": {
            "tags": []
          },
          "execution_count": 110
        }
      ]
    },
    {
      "cell_type": "markdown",
      "metadata": {
        "id": "-kRD09BX2W4G"
      },
      "source": [
        "### Data cleaning"
      ]
    },
    {
      "cell_type": "code",
      "metadata": {
        "colab": {
          "base_uri": "https://localhost:8080/",
          "height": 203
        },
        "id": "UOWKlNou2W4G",
        "outputId": "cc2372c4-d8c6-40a3-ba71-f3ff2763b5a7"
      },
      "source": [
        "stocks['Date'] = pd.to_datetime(stocks['Date'])\n",
        "stocks.head()"
      ],
      "execution_count": 111,
      "outputs": [
        {
          "output_type": "execute_result",
          "data": {
            "text/html": [
              "<div>\n",
              "<style scoped>\n",
              "    .dataframe tbody tr th:only-of-type {\n",
              "        vertical-align: middle;\n",
              "    }\n",
              "\n",
              "    .dataframe tbody tr th {\n",
              "        vertical-align: top;\n",
              "    }\n",
              "\n",
              "    .dataframe thead th {\n",
              "        text-align: right;\n",
              "    }\n",
              "</style>\n",
              "<table border=\"1\" class=\"dataframe\">\n",
              "  <thead>\n",
              "    <tr style=\"text-align: right;\">\n",
              "      <th></th>\n",
              "      <th>Date</th>\n",
              "      <th>High</th>\n",
              "      <th>Low</th>\n",
              "      <th>Open</th>\n",
              "      <th>Close</th>\n",
              "      <th>Volume</th>\n",
              "      <th>Adj Close</th>\n",
              "    </tr>\n",
              "  </thead>\n",
              "  <tbody>\n",
              "    <tr>\n",
              "      <th>0</th>\n",
              "      <td>2010-01-04</td>\n",
              "      <td>7.660714</td>\n",
              "      <td>7.585000</td>\n",
              "      <td>7.622500</td>\n",
              "      <td>7.643214</td>\n",
              "      <td>493729600.0</td>\n",
              "      <td>6.572422</td>\n",
              "    </tr>\n",
              "    <tr>\n",
              "      <th>1</th>\n",
              "      <td>2010-01-05</td>\n",
              "      <td>7.699643</td>\n",
              "      <td>7.616071</td>\n",
              "      <td>7.664286</td>\n",
              "      <td>7.656429</td>\n",
              "      <td>601904800.0</td>\n",
              "      <td>6.583784</td>\n",
              "    </tr>\n",
              "    <tr>\n",
              "      <th>2</th>\n",
              "      <td>2010-01-06</td>\n",
              "      <td>7.686786</td>\n",
              "      <td>7.526786</td>\n",
              "      <td>7.656429</td>\n",
              "      <td>7.534643</td>\n",
              "      <td>552160000.0</td>\n",
              "      <td>6.479061</td>\n",
              "    </tr>\n",
              "    <tr>\n",
              "      <th>3</th>\n",
              "      <td>2010-01-07</td>\n",
              "      <td>7.571429</td>\n",
              "      <td>7.466071</td>\n",
              "      <td>7.562500</td>\n",
              "      <td>7.520714</td>\n",
              "      <td>477131200.0</td>\n",
              "      <td>6.467082</td>\n",
              "    </tr>\n",
              "    <tr>\n",
              "      <th>4</th>\n",
              "      <td>2010-01-08</td>\n",
              "      <td>7.571429</td>\n",
              "      <td>7.466429</td>\n",
              "      <td>7.510714</td>\n",
              "      <td>7.570714</td>\n",
              "      <td>447610800.0</td>\n",
              "      <td>6.510078</td>\n",
              "    </tr>\n",
              "  </tbody>\n",
              "</table>\n",
              "</div>"
            ],
            "text/plain": [
              "        Date      High       Low      Open     Close       Volume  Adj Close\n",
              "0 2010-01-04  7.660714  7.585000  7.622500  7.643214  493729600.0   6.572422\n",
              "1 2010-01-05  7.699643  7.616071  7.664286  7.656429  601904800.0   6.583784\n",
              "2 2010-01-06  7.686786  7.526786  7.656429  7.534643  552160000.0   6.479061\n",
              "3 2010-01-07  7.571429  7.466071  7.562500  7.520714  477131200.0   6.467082\n",
              "4 2010-01-08  7.571429  7.466429  7.510714  7.570714  447610800.0   6.510078"
            ]
          },
          "metadata": {
            "tags": []
          },
          "execution_count": 111
        }
      ]
    },
    {
      "cell_type": "markdown",
      "metadata": {
        "id": "4IUwWMT12W4H"
      },
      "source": [
        "### Missing Values"
      ]
    },
    {
      "cell_type": "code",
      "metadata": {
        "colab": {
          "base_uri": "https://localhost:8080/"
        },
        "id": "Qh0FbOK32W4H",
        "outputId": "56dcc300-9f47-46b2-ad7c-5768b47ca961"
      },
      "source": [
        "stocks.isna().sum()"
      ],
      "execution_count": 112,
      "outputs": [
        {
          "output_type": "execute_result",
          "data": {
            "text/plain": [
              "Date         0\n",
              "High         0\n",
              "Low          0\n",
              "Open         0\n",
              "Close        0\n",
              "Volume       0\n",
              "Adj Close    0\n",
              "dtype: int64"
            ]
          },
          "metadata": {
            "tags": []
          },
          "execution_count": 112
        }
      ]
    },
    {
      "cell_type": "markdown",
      "metadata": {
        "id": "jKMjmtQO2W4H"
      },
      "source": [
        "### Visualizing the data -Close Price"
      ]
    },
    {
      "cell_type": "code",
      "metadata": {
        "colab": {
          "base_uri": "https://localhost:8080/",
          "height": 362
        },
        "id": "bdnTCC7v2W4I",
        "outputId": "81ddab79-cb4f-45c1-ff27-82e3db22b48b"
      },
      "source": [
        "plt.figure(figsize=(5,5))\n",
        "plt.title('Closing Price of Stocks', fontsize = 18)\n",
        "plt.xlabel('Days', fontsize= 18)\n",
        "plt.ylabel('Close', fontsize = 18)\n",
        "plt.plot(stocks['Close'])\n",
        "plt.show()"
      ],
      "execution_count": 113,
      "outputs": [
        {
          "output_type": "display_data",
          "data": {
            "image/png": "[encoded data removed]",
            "text/plain": [
              "<Figure size 360x360 with 1 Axes>"
            ]
          },
          "metadata": {
            "tags": [],
            "needs_background": "light"
          }
        }
      ]
    },
    {
      "cell_type": "markdown",
      "metadata": {
        "id": "yAsXmiR52W4I"
      },
      "source": [
        "### Visualizing the data -Open Price"
      ]
    },
    {
      "cell_type": "code",
      "metadata": {
        "colab": {
          "base_uri": "https://localhost:8080/",
          "height": 350
        },
        "id": "c1d_O8a02W4J",
        "outputId": "36ee93ee-18fb-4017-eb19-ede747291467"
      },
      "source": [
        "plt.figure(figsize=(5,5))\n",
        "plt.grid(True)\n",
        "plt.plot(stocks['Open'])\n",
        "plt.xlabel('Days')\n",
        "plt.ylabel('Open Price')\n",
        "plt.title('Opening price of Stocks')\n",
        "plt.show()"
      ],
      "execution_count": 114,
      "outputs": [
        {
          "output_type": "display_data",
          "data": {
            "image/png": "[encoded data removed]",
            "text/plain": [
              "<Figure size 360x360 with 1 Axes>"
            ]
          },
          "metadata": {
            "tags": [],
            "needs_background": "light"
          }
        }
      ]
    },
    {
      "cell_type": "markdown",
      "metadata": {
        "id": "Sys42dZq2W4J"
      },
      "source": [
        "### Visualising Stocks returns"
      ]
    },
    {
      "cell_type": "code",
      "metadata": {
        "colab": {
          "base_uri": "https://localhost:8080/",
          "height": 408
        },
        "id": "i8VKJqn92W4K",
        "outputId": "c8f28da6-b556-452a-9951-9730afab42bc"
      },
      "source": [
        "close = stocks['Close']\n",
        "returns = close / close.shift(1) - 1\n",
        "\n",
        "plt.figure(figsize = (10,6))\n",
        "returns.plot(label='Return', color = 'g')\n",
        "plt.title(\"Stock Returns\")"
      ],
      "execution_count": 115,
      "outputs": [
        {
          "output_type": "execute_result",
          "data": {
            "text/plain": [
              "Text(0.5, 1.0, 'Stock Returns')"
            ]
          },
          "metadata": {
            "tags": []
          },
          "execution_count": 115
        },
        {
          "output_type": "display_data",
          "data": {
            "image/png": "[encoded data removed]",
            "text/plain": [
              "<Figure size 720x432 with 1 Axes>"
            ]
          },
          "metadata": {
            "tags": [],
            "needs_background": "light"
          }
        }
      ]
    },
    {
      "cell_type": "markdown",
      "metadata": {
        "id": "TGA-eqKK2W4K"
      },
      "source": [
        "## Time series Analysis -For Close Price\n",
        "We can also perform the same analysis for Open price as well"
      ]
    },
    {
      "cell_type": "markdown",
      "metadata": {
        "id": "kYXORhid2W4L"
      },
      "source": [
        "   Time series decomposition involves thinking of a series as a combination of level, trend, seasonality, and noise components.\n",
        " we need to separate seasonality and trend from our series. The resultant series will become stationary through this process."
      ]
    },
    {
      "cell_type": "markdown",
      "metadata": {
        "id": "aMpE6Lt52W4L"
      },
      "source": [
        "### Splitting data into train and test data"
      ]
    },
    {
      "cell_type": "code",
      "metadata": {
        "id": "EyGgwm8z2W4L"
      },
      "source": [
        "train = stocks[:1600]\n",
        "test = stocks[1600:]"
      ],
      "execution_count": 116,
      "outputs": []
    },
    {
      "cell_type": "code",
      "metadata": {
        "colab": {
          "base_uri": "https://localhost:8080/"
        },
        "id": "WiH6gECT2W4M",
        "outputId": "53dcffbf-d99c-4fa9-d1e5-676fb4a84252"
      },
      "source": [
        "train.shape, test.shape"
      ],
      "execution_count": 117,
      "outputs": [
        {
          "output_type": "execute_result",
          "data": {
            "text/plain": [
              "((1600, 7), (1286, 7))"
            ]
          },
          "metadata": {
            "tags": []
          },
          "execution_count": 117
        }
      ]
    },
    {
      "cell_type": "markdown",
      "metadata": {
        "id": "9hjuW7QN2W4M"
      },
      "source": [
        "### Decomposition of Time series"
      ]
    },
    {
      "cell_type": "markdown",
      "metadata": {
        "id": "TvE7EPSu2W4M"
      },
      "source": [
        "### Stationarity"
      ]
    },
    {
      "cell_type": "markdown",
      "metadata": {
        "id": "EdgVGStW2W4N"
      },
      "source": [
        "A stationary process has a mean and variance that do not change overtime and the process does not have trend.\n",
        "\n",
        "The above time series does not look stationary.\n",
        "\n",
        "To confirm that we will use “Dickey-Fuller test” to determine stationarity.\n",
        "\n",
        "Dickey-Fuller test for variable"
      ]
    },
    {
      "cell_type": "markdown",
      "metadata": {
        "id": "4b26RkHL2W4N"
      },
      "source": [
        "### Dickey-Fuller test"
      ]
    },
    {
      "cell_type": "code",
      "metadata": {
        "id": "2rK1h84n2W4N"
      },
      "source": [
        "def adfullerTest(X):\n",
        "    result = adfuller(X,autolag = 'AIC')\n",
        "    print('ADF Statistic: %f' % result[0])\n",
        "    print('p-value: %f' % result[1])\n",
        "    print('No of Lags Used: %f' % result[2])\n",
        "    print('Number of Obs Used: %f' % result[3])\n",
        "    print('Critical Values:')\n",
        "    for key, value in result[4].items():\n",
        "        print('\\t%s: %.3f' % (key, value))\n",
        "    if result[1] <=0.05 :\n",
        "         print(\"Reject against the null hypothesis, time series is stationary\")\n",
        "    else:\n",
        "        print(\"Accept null hypothesis, time series is non-stationary \") "
      ],
      "execution_count": 118,
      "outputs": []
    },
    {
      "cell_type": "code",
      "metadata": {
        "colab": {
          "base_uri": "https://localhost:8080/"
        },
        "id": "P1ZnGIo_2W4O",
        "outputId": "166cad6f-7bbe-4bcc-afc6-b934db3523c4"
      },
      "source": [
        "adfullerTest(train['Close'])\n"
      ],
      "execution_count": 119,
      "outputs": [
        {
          "output_type": "stream",
          "text": [
            "ADF Statistic: -1.571343\n",
            "p-value: 0.497971\n",
            "No of Lags Used: 0.000000\n",
            "Number of Obs Used: 1599.000000\n",
            "Critical Values:\n",
            "\t1%: -3.434\n",
            "\t5%: -2.863\n",
            "\t10%: -2.568\n",
            "Accept null hypothesis, time series is non-stationary \n"
          ],
          "name": "stdout"
        }
      ]
    },
    {
      "cell_type": "markdown",
      "metadata": {
        "id": "-oGyNUPR2W4O"
      },
      "source": [
        "We can see that our statistic value of -1.4 is greater than the value of -3.437 at 1% critical value.\n",
        "   By Comparing the test statistic to the critical values, it looks like we would have to fail to reject the null hypothesis that the time series is non-stationary and does have time-dependent structure."
      ]
    },
    {
      "cell_type": "markdown",
      "metadata": {
        "id": "IP8rfj592W4P"
      },
      "source": [
        "##### Rolling Statistics"
      ]
    },
    {
      "cell_type": "code",
      "metadata": {
        "colab": {
          "base_uri": "https://localhost:8080/",
          "height": 536
        },
        "id": "ErwDA9Yb2W4P",
        "outputId": "32a5e4b4-3877-4a82-a9c9-dbaa075b9c68"
      },
      "source": [
        "rolling_mean_50 = (train['Close']).rolling(window=50).mean()\n",
        "rolling_std_50 = (train['Close']).rolling(window=50).std()\n",
        "plt.figure(figsize = (8,8))\n",
        "plt.plot((train['Close']), color = 'blue', label = 'original')\n",
        "plt.plot(rolling_mean_50, color = 'red', label = 'rolling mean 50')\n",
        "plt.plot(rolling_std_50, color = 'black', label = 'rolling std 50')\n",
        "plt.xlabel('Time')\n",
        "plt.legend()\n",
        "plt.title('Mean and Standard Deviation on  transformed data',  fontsize = 20)\n"
      ],
      "execution_count": 120,
      "outputs": [
        {
          "output_type": "execute_result",
          "data": {
            "text/plain": [
              "Text(0.5, 1.0, 'Mean and Standard Deviation on  transformed data')"
            ]
          },
          "metadata": {
            "tags": []
          },
          "execution_count": 120
        },
        {
          "output_type": "display_data",
          "data": {
            "image/png": "[encoded data removed]",
            "text/plain": [
              "<Figure size 576x576 with 1 Axes>"
            ]
          },
          "metadata": {
            "tags": [],
            "needs_background": "light"
          }
        }
      ]
    },
    {
      "cell_type": "markdown",
      "metadata": {
        "id": "toKTz1lE2W4P"
      },
      "source": [
        "Since the data shows changing variance over time, the first thing we will do is stabilize the variance by applying log transformation using the log() function. The resulting series will be a linear time series."
      ]
    },
    {
      "cell_type": "markdown",
      "metadata": {
        "id": "fB4EW4RF2W4Q"
      },
      "source": [
        "### Log Transfromation"
      ]
    },
    {
      "cell_type": "markdown",
      "metadata": {
        "id": "6wk-ktSJ2W4Q"
      },
      "source": [
        "Let’s log transform the dataset again to make the distribution of values more linear and better meet the expectations of this statistical test."
      ]
    },
    {
      "cell_type": "code",
      "metadata": {
        "id": "GLF9yRHe2W4Q"
      },
      "source": [
        "train_log = np.log(train['Close']) \n",
        "test_log = np.log(test['Close'])"
      ],
      "execution_count": 121,
      "outputs": []
    },
    {
      "cell_type": "code",
      "metadata": {
        "colab": {
          "base_uri": "https://localhost:8080/"
        },
        "id": "3Jzegy2_2W4R",
        "outputId": "9f3325f1-992a-4c6a-c0e8-a90b0f762270"
      },
      "source": [
        "from numpy import log\n",
        "adfullerTest(log(train['Close']))"
      ],
      "execution_count": 122,
      "outputs": [
        {
          "output_type": "stream",
          "text": [
            "ADF Statistic: -2.040940\n",
            "p-value: 0.268916\n",
            "No of Lags Used: 0.000000\n",
            "Number of Obs Used: 1599.000000\n",
            "Critical Values:\n",
            "\t1%: -3.434\n",
            "\t5%: -2.863\n",
            "\t10%: -2.568\n",
            "Accept null hypothesis, time series is non-stationary \n"
          ],
          "name": "stdout"
        }
      ]
    },
    {
      "cell_type": "markdown",
      "metadata": {
        "id": "7oAQDcUK2W4R"
      },
      "source": [
        "Running this shows a negative value for the test statistic.\n",
        "\n",
        "We can see that the value is larger than the critical values, again, meaning that we can fail to reject the null hypothesis and in turn that the time series is non-stationary."
      ]
    },
    {
      "cell_type": "code",
      "metadata": {
        "colab": {
          "base_uri": "https://localhost:8080/",
          "height": 536
        },
        "id": "01-nvnwz2W4S",
        "outputId": "e17401f3-003b-4db3-e952-e924c5e836ed"
      },
      "source": [
        "rolling_mean_50 = log(train['Close']).rolling(window=50).mean()\n",
        "rolling_std_50 = log(train['Close']).rolling(window=50).std()\n",
        "plt.figure(figsize = (8,8))\n",
        "plt.plot(log(train['Close']), color = 'g', label = 'Log Transformed')\n",
        "plt.plot(rolling_mean_50, color = 'r', label = 'rolling mean 50')\n",
        "plt.plot(rolling_std_50, color = 'r', label = 'rolling std 50')\n",
        "plt.xlabel('Time')\n",
        "plt.legend()\n",
        "plt.title('Mean and Standard Deviation on Log transformed data',  fontsize = 20)\n"
      ],
      "execution_count": 123,
      "outputs": [
        {
          "output_type": "execute_result",
          "data": {
            "text/plain": [
              "Text(0.5, 1.0, 'Mean and Standard Deviation on Log transformed data')"
            ]
          },
          "metadata": {
            "tags": []
          },
          "execution_count": 123
        },
        {
          "output_type": "display_data",
          "data": {
            "image/png": "[encoded data removed]",
            "text/plain": [
              "<Figure size 576x576 with 1 Axes>"
            ]
          },
          "metadata": {
            "tags": [],
            "needs_background": "light"
          }
        }
      ]
    },
    {
      "cell_type": "markdown",
      "metadata": {
        "id": "-wEPRld22W4T"
      },
      "source": [
        "##### To Removing Linear Trend"
      ]
    },
    {
      "cell_type": "markdown",
      "metadata": {
        "id": "_DRHBKu62W4T"
      },
      "source": [
        "###### We will now perform the first difference transformation to our series to remove the linear trend."
      ]
    },
    {
      "cell_type": "code",
      "metadata": {
        "id": "0P5gMtXd2W4T"
      },
      "source": [
        "mean_log = log(train['Close']).rolling(50).mean()"
      ],
      "execution_count": 124,
      "outputs": []
    },
    {
      "cell_type": "code",
      "metadata": {
        "colab": {
          "base_uri": "https://localhost:8080/"
        },
        "id": "wZT4VuMs2W4T",
        "outputId": "d37d0288-24d0-4306-ed89-e462f85238cd"
      },
      "source": [
        "train_log_diff = log(train['Close']) - mean_log\n",
        "train_log_diff.dropna(inplace = True)\n",
        "adfullerTest(train_log_diff)"
      ],
      "execution_count": 125,
      "outputs": [
        {
          "output_type": "stream",
          "text": [
            "ADF Statistic: -4.920769\n",
            "p-value: 0.000032\n",
            "No of Lags Used: 1.000000\n",
            "Number of Obs Used: 1549.000000\n",
            "Critical Values:\n",
            "\t1%: -3.435\n",
            "\t5%: -2.863\n",
            "\t10%: -2.568\n",
            "Reject against the null hypothesis, time series is stationary\n"
          ],
          "name": "stdout"
        }
      ]
    },
    {
      "cell_type": "code",
      "metadata": {
        "colab": {
          "base_uri": "https://localhost:8080/",
          "height": 536
        },
        "id": "vCqYt4Ro2W4U",
        "outputId": "b45274b3-3682-407c-e860-c278987e09e8"
      },
      "source": [
        "data=   train_log_diff\n",
        "mean = data.rolling(50).mean()\n",
        "std = data.rolling(50).std()\n",
        "plt.figure(figsize = (8,8))\n",
        "plt.plot(data, color = 'g', label = 'Differential Log Transformed data')\n",
        "plt.plot(mean, color = 'r', label = 'rolling mean')\n",
        "plt.plot(std, color = 'b', label = 'rolling std')\n",
        "plt.xlabel('Time')\n",
        "plt.legend()\n",
        "plt.title('Mean and Standard Deviation on Differential Log Transformed data',  fontsize = 20)"
      ],
      "execution_count": 126,
      "outputs": [
        {
          "output_type": "execute_result",
          "data": {
            "text/plain": [
              "Text(0.5, 1.0, 'Mean and Standard Deviation on Differential Log Transformed data')"
            ]
          },
          "metadata": {
            "tags": []
          },
          "execution_count": 126
        },
        {
          "output_type": "display_data",
          "data": {
            "image/png": "[encoded data removed]",
            "text/plain": [
              "<Figure size 576x576 with 1 Axes>"
            ]
          },
          "metadata": {
            "tags": [],
            "needs_background": "light"
          }
        }
      ]
    },
    {
      "cell_type": "markdown",
      "metadata": {
        "id": "-LWSYS8v2W4U"
      },
      "source": [
        "Rejecting the null hypothesis means that the process has no unit root, and in turn that the time series is stationary or does not have time-dependent structure.\n",
        "Here we can also observe that there is no such trend in mean and Standard deviation\n",
        "So the now time series is statinary"
      ]
    },
    {
      "cell_type": "markdown",
      "metadata": {
        "id": "IKDcVXvy2W4V"
      },
      "source": [
        "Now the data is stationary we can apply ARIMA model to our data"
      ]
    },
    {
      "cell_type": "markdown",
      "metadata": {
        "id": "sUiYRCBD2W4V"
      },
      "source": [
        "### ARIMA Model "
      ]
    },
    {
      "cell_type": "markdown",
      "metadata": {
        "id": "xQB1AnBA2W4V"
      },
      "source": [
        "    AR: Autoregression. A model that uses the dependent relationship between an observation and some number of lagged observations.\n",
        "    I: Integrated. The use of differencing of raw observations (e.g. subtracting an observation from an observation at the previous time step) in order to make the time series stationary.\n",
        "    MA: Moving Average. A model that uses the dependency between an observation and a residual error from a moving average model applied to lagged observations."
      ]
    },
    {
      "cell_type": "markdown",
      "metadata": {
        "id": "cnrBcrdy2W4W"
      },
      "source": [
        "The parameters of the ARIMA model are defined as follows:\n",
        "\n",
        "    p: The number of lag observations included in the model, also called the lag order.\n",
        "    d: The number of times that the raw observations are differenced, also called the degree of differencing.\n",
        "    q: The size of the moving average window, also called the order of moving average."
      ]
    },
    {
      "cell_type": "code",
      "metadata": {
        "id": "P67ENTZS2W4W"
      },
      "source": [
        "import pmdarima as pmd\n",
        "\n",
        "def arimamodel(timeseriesarray):\n",
        "    autoarima_model = pmd.auto_arima(timeseriesarray, \n",
        "                             # start_p=1, \n",
        "                              #start_q=1,\n",
        "                              #test=\"adf\",\n",
        "                              trace=True,\n",
        "                              error_action = 'ignore',\n",
        "                              suppress_warnings = True)\n",
        "    return autoarima_model"
      ],
      "execution_count": 127,
      "outputs": []
    },
    {
      "cell_type": "code",
      "metadata": {
        "colab": {
          "base_uri": "https://localhost:8080/",
          "height": 567
        },
        "id": "ar4-BnZQ2W4W",
        "outputId": "1bbfd2bb-94a8-49fe-f508-79fd1c35ad9d"
      },
      "source": [
        "stocks_arima = arimamodel((train_log))\n",
        "stocks_arima.summary()"
      ],
      "execution_count": 128,
      "outputs": [
        {
          "output_type": "stream",
          "text": [
            "Performing stepwise search to minimize aic\n",
            " ARIMA(2,1,2)(0,0,0)[0] intercept   : AIC=-8500.662, Time=3.64 sec\n",
            " ARIMA(0,1,0)(0,0,0)[0] intercept   : AIC=-8506.438, Time=0.20 sec\n",
            " ARIMA(1,1,0)(0,0,0)[0] intercept   : AIC=-8505.002, Time=0.16 sec\n",
            " ARIMA(0,1,1)(0,0,0)[0] intercept   : AIC=-8505.002, Time=0.34 sec\n",
            " ARIMA(0,1,0)(0,0,0)[0]             : AIC=-8505.757, Time=0.13 sec\n",
            " ARIMA(1,1,1)(0,0,0)[0] intercept   : AIC=-8502.973, Time=0.57 sec\n",
            "\n",
            "Best model:  ARIMA(0,1,0)(0,0,0)[0] intercept\n",
            "Total fit time: 5.040 seconds\n"
          ],
          "name": "stdout"
        },
        {
          "output_type": "execute_result",
          "data": {
            "text/html": [
              "<table class=\"simpletable\">\n",
              "<caption>SARIMAX Results</caption>\n",
              "<tr>\n",
              "  <th>Dep. Variable:</th>           <td>y</td>        <th>  No. Observations:  </th>   <td>1600</td>   \n",
              "</tr>\n",
              "<tr>\n",
              "  <th>Model:</th>           <td>SARIMAX(0, 1, 0)</td> <th>  Log Likelihood     </th> <td>4255.219</td> \n",
              "</tr>\n",
              "<tr>\n",
              "  <th>Date:</th>            <td>Mon, 21 Jun 2021</td> <th>  AIC                </th> <td>-8506.438</td>\n",
              "</tr>\n",
              "<tr>\n",
              "  <th>Time:</th>                <td>15:06:18</td>     <th>  BIC                </th> <td>-8495.684</td>\n",
              "</tr>\n",
              "<tr>\n",
              "  <th>Sample:</th>                  <td>0</td>        <th>  HQIC               </th> <td>-8502.444</td>\n",
              "</tr>\n",
              "<tr>\n",
              "  <th></th>                      <td> - 1600</td>     <th>                     </th>     <td> </td>    \n",
              "</tr>\n",
              "<tr>\n",
              "  <th>Covariance Type:</th>        <td>opg</td>       <th>                     </th>     <td> </td>    \n",
              "</tr>\n",
              "</table>\n",
              "<table class=\"simpletable\">\n",
              "<tr>\n",
              "      <td></td>         <th>coef</th>     <th>std err</th>      <th>z</th>      <th>P>|z|</th>  <th>[0.025</th>    <th>0.975]</th>  \n",
              "</tr>\n",
              "<tr>\n",
              "  <th>intercept</th> <td>    0.0007</td> <td>    0.000</td> <td>    1.626</td> <td> 0.104</td> <td>   -0.000</td> <td>    0.002</td>\n",
              "</tr>\n",
              "<tr>\n",
              "  <th>sigma2</th>    <td>    0.0003</td> <td> 5.65e-06</td> <td>   50.620</td> <td> 0.000</td> <td>    0.000</td> <td>    0.000</td>\n",
              "</tr>\n",
              "</table>\n",
              "<table class=\"simpletable\">\n",
              "<tr>\n",
              "  <th>Ljung-Box (L1) (Q):</th>     <td>0.57</td> <th>  Jarque-Bera (JB):  </th> <td>1376.33</td>\n",
              "</tr>\n",
              "<tr>\n",
              "  <th>Prob(Q):</th>                <td>0.45</td> <th>  Prob(JB):          </th>  <td>0.00</td>  \n",
              "</tr>\n",
              "<tr>\n",
              "  <th>Heteroskedasticity (H):</th> <td>0.92</td> <th>  Skew:              </th>  <td>-0.31</td> \n",
              "</tr>\n",
              "<tr>\n",
              "  <th>Prob(H) (two-sided):</th>    <td>0.33</td> <th>  Kurtosis:          </th>  <td>7.50</td>  \n",
              "</tr>\n",
              "</table><br/><br/>Warnings:<br/>[1] Covariance matrix calculated using the outer product of gradients (complex-step)."
            ],
            "text/plain": [
              "<class 'statsmodels.iolib.summary.Summary'>\n",
              "\"\"\"\n",
              "                               SARIMAX Results                                \n",
              "==============================================================================\n",
              "Dep. Variable:                      y   No. Observations:                 1600\n",
              "Model:               SARIMAX(0, 1, 0)   Log Likelihood                4255.219\n",
              "Date:                Mon, 21 Jun 2021   AIC                          -8506.438\n",
              "Time:                        15:06:18   BIC                          -8495.684\n",
              "Sample:                             0   HQIC                         -8502.444\n",
              "                               - 1600                                         \n",
              "Covariance Type:                  opg                                         \n",
              "==============================================================================\n",
              "                 coef    std err          z      P>|z|      [0.025      0.975]\n",
              "------------------------------------------------------------------------------\n",
              "intercept      0.0007      0.000      1.626      0.104      -0.000       0.002\n",
              "sigma2         0.0003   5.65e-06     50.620      0.000       0.000       0.000\n",
              "===================================================================================\n",
              "Ljung-Box (L1) (Q):                   0.57   Jarque-Bera (JB):              1376.33\n",
              "Prob(Q):                              0.45   Prob(JB):                         0.00\n",
              "Heteroskedasticity (H):               0.92   Skew:                            -0.31\n",
              "Prob(H) (two-sided):                  0.33   Kurtosis:                         7.50\n",
              "===================================================================================\n",
              "\n",
              "Warnings:\n",
              "[1] Covariance matrix calculated using the outer product of gradients (complex-step).\n",
              "\"\"\""
            ]
          },
          "metadata": {
            "tags": []
          },
          "execution_count": 128
        }
      ]
    },
    {
      "cell_type": "code",
      "metadata": {
        "colab": {
          "base_uri": "https://localhost:8080/",
          "height": 621
        },
        "id": "Vlf-PmqM2W4X",
        "outputId": "d5fe6c40-39fb-4305-8b56-3db6fb2afb60"
      },
      "source": [
        "stocks_arima.plot_diagnostics(figsize=(10,10))\n",
        "plt.show()"
      ],
      "execution_count": 129,
      "outputs": [
        {
          "output_type": "display_data",
          "data": {
            "image/png": "[encoded data removed]",
            "text/plain": [
              "<Figure size 720x720 with 4 Axes>"
            ]
          },
          "metadata": {
            "tags": [],
            "needs_background": "light"
          }
        }
      ]
    },
    {
      "cell_type": "markdown",
      "metadata": {
        "id": "uMcAZHHX2W4X"
      },
      "source": [
        "### Predictions on test data"
      ]
    },
    {
      "cell_type": "code",
      "metadata": {
        "id": "xjKdzp2C2W4Y"
      },
      "source": [
        "predict_ClosePrice = stocks_arima.predict(n_periods = len(test_log))\n",
        "predict_ClosePrice = pd.DataFrame(predict_ClosePrice,index = test_log.index,columns=['predict_ClosePrice'])"
      ],
      "execution_count": 130,
      "outputs": []
    },
    {
      "cell_type": "code",
      "metadata": {
        "colab": {
          "base_uri": "https://localhost:8080/",
          "height": 313
        },
        "id": "lPgxPb9_2W4b",
        "outputId": "ed8f082a-9f8d-44fa-a603-50fde2ed6924"
      },
      "source": [
        "plt.plot(train_log, label='Train')\n",
        "plt.plot(test_log, label='Test')\n",
        "plt.plot(predict_ClosePrice, label='Prediction')\n",
        "plt.title(' Stock Price Prediction')\n",
        "plt.xlabel('Time')\n",
        "plt.ylabel('Actual Stock Price')"
      ],
      "execution_count": 131,
      "outputs": [
        {
          "output_type": "execute_result",
          "data": {
            "text/plain": [
              "Text(0, 0.5, 'Actual Stock Price')"
            ]
          },
          "metadata": {
            "tags": []
          },
          "execution_count": 131
        },
        {
          "output_type": "display_data",
          "data": {
            "image/png": "[encoded data removed]",
            "text/plain": [
              "<Figure size 432x288 with 1 Axes>"
            ]
          },
          "metadata": {
            "tags": [],
            "needs_background": "light"
          }
        }
      ]
    },
    {
      "cell_type": "markdown",
      "metadata": {
        "id": "yVtbylfC2W4c"
      },
      "source": [
        "### Validation of the Arima Model"
      ]
    },
    {
      "cell_type": "code",
      "metadata": {
        "colab": {
          "base_uri": "https://localhost:8080/"
        },
        "id": "2AWEFrGb2W4c",
        "outputId": "2d2aa987-d60a-4f96-cacd-5bb15909dfe6"
      },
      "source": [
        "print('Mean Squared Error      ',mean_squared_error(test_log, predict_ClosePrice))\n",
        "print('Root Mean_Squared_Error ',np.sqrt(mean_squared_error(test_log, predict_ClosePrice)))\n",
        "print('Mean Absolute Error     ',mean_absolute_error(test_log, predict_ClosePrice))\n",
        "print('R-Squared               ',r2_score(test_log, predict_ClosePrice))"
      ],
      "execution_count": 132,
      "outputs": [
        {
          "output_type": "stream",
          "text": [
            "Mean Squared Error       0.21920463993483932\n",
            "Root Mean_Squared_Error  0.46819295160738944\n",
            "Mean Absolute Error      0.390622627433936\n",
            "R-Squared                0.08793163651978408\n"
          ],
          "name": "stdout"
        }
      ]
    },
    {
      "cell_type": "markdown",
      "metadata": {
        "id": "HIgbiIea2W4d"
      },
      "source": [
        "## Analyzing  news dataset "
      ]
    },
    {
      "cell_type": "code",
      "metadata": {
        "id": "TqydiSwy6Fhc"
      },
      "source": [
        "news=pd.read_csv(\"/content/drive/MyDrive/Sparksfoundation/india-news-headlines.csv\")"
      ],
      "execution_count": 133,
      "outputs": []
    },
    {
      "cell_type": "code",
      "metadata": {
        "colab": {
          "base_uri": "https://localhost:8080/",
          "height": 203
        },
        "id": "ASggtXA-2W4d",
        "outputId": "1372802f-5b8d-4603-cab3-2fef9f0a90b7"
      },
      "source": [
        "news.head()"
      ],
      "execution_count": 134,
      "outputs": [
        {
          "output_type": "execute_result",
          "data": {
            "text/html": [
              "<div>\n",
              "<style scoped>\n",
              "    .dataframe tbody tr th:only-of-type {\n",
              "        vertical-align: middle;\n",
              "    }\n",
              "\n",
              "    .dataframe tbody tr th {\n",
              "        vertical-align: top;\n",
              "    }\n",
              "\n",
              "    .dataframe thead th {\n",
              "        text-align: right;\n",
              "    }\n",
              "</style>\n",
              "<table border=\"1\" class=\"dataframe\">\n",
              "  <thead>\n",
              "    <tr style=\"text-align: right;\">\n",
              "      <th></th>\n",
              "      <th>publish_date</th>\n",
              "      <th>headline_category</th>\n",
              "      <th>headline_text</th>\n",
              "    </tr>\n",
              "  </thead>\n",
              "  <tbody>\n",
              "    <tr>\n",
              "      <th>0</th>\n",
              "      <td>20010102</td>\n",
              "      <td>unknown</td>\n",
              "      <td>Status quo will not be disturbed at Ayodhya; s...</td>\n",
              "    </tr>\n",
              "    <tr>\n",
              "      <th>1</th>\n",
              "      <td>20010102</td>\n",
              "      <td>unknown</td>\n",
              "      <td>Fissures in Hurriyat over Pak visit</td>\n",
              "    </tr>\n",
              "    <tr>\n",
              "      <th>2</th>\n",
              "      <td>20010102</td>\n",
              "      <td>unknown</td>\n",
              "      <td>America's unwanted heading for India?</td>\n",
              "    </tr>\n",
              "    <tr>\n",
              "      <th>3</th>\n",
              "      <td>20010102</td>\n",
              "      <td>unknown</td>\n",
              "      <td>For bigwigs; it is destination Goa</td>\n",
              "    </tr>\n",
              "    <tr>\n",
              "      <th>4</th>\n",
              "      <td>20010102</td>\n",
              "      <td>unknown</td>\n",
              "      <td>Extra buses to clear tourist traffic</td>\n",
              "    </tr>\n",
              "  </tbody>\n",
              "</table>\n",
              "</div>"
            ],
            "text/plain": [
              "   publish_date  ...                                      headline_text\n",
              "0      20010102  ...  Status quo will not be disturbed at Ayodhya; s...\n",
              "1      20010102  ...                Fissures in Hurriyat over Pak visit\n",
              "2      20010102  ...              America's unwanted heading for India?\n",
              "3      20010102  ...                 For bigwigs; it is destination Goa\n",
              "4      20010102  ...               Extra buses to clear tourist traffic\n",
              "\n",
              "[5 rows x 3 columns]"
            ]
          },
          "metadata": {
            "tags": []
          },
          "execution_count": 134
        }
      ]
    },
    {
      "cell_type": "code",
      "metadata": {
        "colab": {
          "base_uri": "https://localhost:8080/",
          "height": 203
        },
        "id": "CkeUGEns2W4e",
        "outputId": "ce1d3e22-1b45-49d8-88d8-8f828e7e4009"
      },
      "source": [
        "news['publish_date'] = pd.to_datetime(news['publish_date'],format= '%Y%m%d')\n",
        "news.head()"
      ],
      "execution_count": 135,
      "outputs": [
        {
          "output_type": "execute_result",
          "data": {
            "text/html": [
              "<div>\n",
              "<style scoped>\n",
              "    .dataframe tbody tr th:only-of-type {\n",
              "        vertical-align: middle;\n",
              "    }\n",
              "\n",
              "    .dataframe tbody tr th {\n",
              "        vertical-align: top;\n",
              "    }\n",
              "\n",
              "    .dataframe thead th {\n",
              "        text-align: right;\n",
              "    }\n",
              "</style>\n",
              "<table border=\"1\" class=\"dataframe\">\n",
              "  <thead>\n",
              "    <tr style=\"text-align: right;\">\n",
              "      <th></th>\n",
              "      <th>publish_date</th>\n",
              "      <th>headline_category</th>\n",
              "      <th>headline_text</th>\n",
              "    </tr>\n",
              "  </thead>\n",
              "  <tbody>\n",
              "    <tr>\n",
              "      <th>0</th>\n",
              "      <td>2001-01-02</td>\n",
              "      <td>unknown</td>\n",
              "      <td>Status quo will not be disturbed at Ayodhya; s...</td>\n",
              "    </tr>\n",
              "    <tr>\n",
              "      <th>1</th>\n",
              "      <td>2001-01-02</td>\n",
              "      <td>unknown</td>\n",
              "      <td>Fissures in Hurriyat over Pak visit</td>\n",
              "    </tr>\n",
              "    <tr>\n",
              "      <th>2</th>\n",
              "      <td>2001-01-02</td>\n",
              "      <td>unknown</td>\n",
              "      <td>America's unwanted heading for India?</td>\n",
              "    </tr>\n",
              "    <tr>\n",
              "      <th>3</th>\n",
              "      <td>2001-01-02</td>\n",
              "      <td>unknown</td>\n",
              "      <td>For bigwigs; it is destination Goa</td>\n",
              "    </tr>\n",
              "    <tr>\n",
              "      <th>4</th>\n",
              "      <td>2001-01-02</td>\n",
              "      <td>unknown</td>\n",
              "      <td>Extra buses to clear tourist traffic</td>\n",
              "    </tr>\n",
              "  </tbody>\n",
              "</table>\n",
              "</div>"
            ],
            "text/plain": [
              "  publish_date  ...                                      headline_text\n",
              "0   2001-01-02  ...  Status quo will not be disturbed at Ayodhya; s...\n",
              "1   2001-01-02  ...                Fissures in Hurriyat over Pak visit\n",
              "2   2001-01-02  ...              America's unwanted heading for India?\n",
              "3   2001-01-02  ...                 For bigwigs; it is destination Goa\n",
              "4   2001-01-02  ...               Extra buses to clear tourist traffic\n",
              "\n",
              "[5 rows x 3 columns]"
            ]
          },
          "metadata": {
            "tags": []
          },
          "execution_count": 135
        }
      ]
    },
    {
      "cell_type": "code",
      "metadata": {
        "colab": {
          "base_uri": "https://localhost:8080/"
        },
        "id": "KYl_lb9v2W4e",
        "outputId": "42f2600d-62a4-4f34-a001-d5fed0c49b0c"
      },
      "source": [
        "news.isna().sum()"
      ],
      "execution_count": 136,
      "outputs": [
        {
          "output_type": "execute_result",
          "data": {
            "text/plain": [
              "publish_date         0\n",
              "headline_category    0\n",
              "headline_text        0\n",
              "dtype: int64"
            ]
          },
          "metadata": {
            "tags": []
          },
          "execution_count": 136
        }
      ]
    },
    {
      "cell_type": "code",
      "metadata": {
        "colab": {
          "base_uri": "https://localhost:8080/"
        },
        "id": "n61IZDJg2W4f",
        "outputId": "7f5a4720-645a-41f5-bba5-48e02d7d9b3b"
      },
      "source": [
        "news.shape"
      ],
      "execution_count": 137,
      "outputs": [
        {
          "output_type": "execute_result",
          "data": {
            "text/plain": [
              "(3424067, 3)"
            ]
          },
          "metadata": {
            "tags": []
          },
          "execution_count": 137
        }
      ]
    },
    {
      "cell_type": "code",
      "metadata": {
        "colab": {
          "base_uri": "https://localhost:8080/"
        },
        "id": "ZhYwBBlq2W4f",
        "outputId": "269abcb4-1f37-4c0a-d438-f87b3007d804"
      },
      "source": [
        "(news.columns)"
      ],
      "execution_count": 138,
      "outputs": [
        {
          "output_type": "execute_result",
          "data": {
            "text/plain": [
              "Index(['publish_date', 'headline_category', 'headline_text'], dtype='object')"
            ]
          },
          "metadata": {
            "tags": []
          },
          "execution_count": 138
        }
      ]
    },
    {
      "cell_type": "markdown",
      "metadata": {
        "id": "QtsQMq5h2W4g"
      },
      "source": [
        "### Analaysing \"HEADLINE_CATEGORY\" with \"CITIES\""
      ]
    },
    {
      "cell_type": "code",
      "metadata": {
        "colab": {
          "base_uri": "https://localhost:8080/"
        },
        "id": "rQaiKzf12W4g",
        "outputId": "76e0714e-1f7a-4b92-db2a-30d40c486648"
      },
      "source": [
        "news['headline_category'].value_counts().head()"
      ],
      "execution_count": 139,
      "outputs": [
        {
          "output_type": "execute_result",
          "data": {
            "text/plain": [
              "india                      288541\n",
              "unknown                    209582\n",
              "city.mumbai                134428\n",
              "city.delhi                 127717\n",
              "business.india-business    116761\n",
              "Name: headline_category, dtype: int64"
            ]
          },
          "metadata": {
            "tags": []
          },
          "execution_count": 139
        }
      ]
    },
    {
      "cell_type": "code",
      "metadata": {
        "colab": {
          "base_uri": "https://localhost:8080/",
          "height": 357
        },
        "id": "kIW4rW_32W4h",
        "outputId": "af4fe5ab-4931-4ecb-c2ff-bc9afc70335d"
      },
      "source": [
        "cities = news[news['headline_category'].str.contains('^city\\.[a-z]+$', regex=True)]\n",
        "cities.head(10)"
      ],
      "execution_count": 140,
      "outputs": [
        {
          "output_type": "execute_result",
          "data": {
            "text/html": [
              "<div>\n",
              "<style scoped>\n",
              "    .dataframe tbody tr th:only-of-type {\n",
              "        vertical-align: middle;\n",
              "    }\n",
              "\n",
              "    .dataframe tbody tr th {\n",
              "        vertical-align: top;\n",
              "    }\n",
              "\n",
              "    .dataframe thead th {\n",
              "        text-align: right;\n",
              "    }\n",
              "</style>\n",
              "<table border=\"1\" class=\"dataframe\">\n",
              "  <thead>\n",
              "    <tr style=\"text-align: right;\">\n",
              "      <th></th>\n",
              "      <th>publish_date</th>\n",
              "      <th>headline_category</th>\n",
              "      <th>headline_text</th>\n",
              "    </tr>\n",
              "  </thead>\n",
              "  <tbody>\n",
              "    <tr>\n",
              "      <th>273</th>\n",
              "      <td>2001-01-04</td>\n",
              "      <td>city.bengaluru</td>\n",
              "      <td>Three in race for chief secy's post</td>\n",
              "    </tr>\n",
              "    <tr>\n",
              "      <th>274</th>\n",
              "      <td>2001-01-04</td>\n",
              "      <td>city.patna</td>\n",
              "      <td>Druggists' stir leads to shortage of medicines</td>\n",
              "    </tr>\n",
              "    <tr>\n",
              "      <th>277</th>\n",
              "      <td>2001-01-04</td>\n",
              "      <td>city.bengaluru</td>\n",
              "      <td>He's not so inscrutable</td>\n",
              "    </tr>\n",
              "    <tr>\n",
              "      <th>278</th>\n",
              "      <td>2001-01-04</td>\n",
              "      <td>city.delhi</td>\n",
              "      <td>DPCC stages Nyay rally</td>\n",
              "    </tr>\n",
              "    <tr>\n",
              "      <th>642</th>\n",
              "      <td>2001-01-10</td>\n",
              "      <td>city.patna</td>\n",
              "      <td>Fend for yourselves; Pande tells doctors</td>\n",
              "    </tr>\n",
              "    <tr>\n",
              "      <th>643</th>\n",
              "      <td>2001-01-10</td>\n",
              "      <td>city.patna</td>\n",
              "      <td>Bureaucracy undermining legislature's 'existence'</td>\n",
              "    </tr>\n",
              "    <tr>\n",
              "      <th>644</th>\n",
              "      <td>2001-01-10</td>\n",
              "      <td>city.patna</td>\n",
              "      <td>State police collapses under pressure</td>\n",
              "    </tr>\n",
              "    <tr>\n",
              "      <th>645</th>\n",
              "      <td>2001-01-10</td>\n",
              "      <td>city.patna</td>\n",
              "      <td>Court declares Pappu Yadav an absconder</td>\n",
              "    </tr>\n",
              "    <tr>\n",
              "      <th>2215</th>\n",
              "      <td>2001-03-09</td>\n",
              "      <td>city.delhi</td>\n",
              "      <td>Maneka asks govt to take back land for cow she...</td>\n",
              "    </tr>\n",
              "    <tr>\n",
              "      <th>3603</th>\n",
              "      <td>2001-04-23</td>\n",
              "      <td>city.ahmedabad</td>\n",
              "      <td>Killer was promised Rs 25;000 for killing Nair...</td>\n",
              "    </tr>\n",
              "  </tbody>\n",
              "</table>\n",
              "</div>"
            ],
            "text/plain": [
              "     publish_date  ...                                      headline_text\n",
              "273    2001-01-04  ...                Three in race for chief secy's post\n",
              "274    2001-01-04  ...     Druggists' stir leads to shortage of medicines\n",
              "277    2001-01-04  ...                            He's not so inscrutable\n",
              "278    2001-01-04  ...                             DPCC stages Nyay rally\n",
              "642    2001-01-10  ...           Fend for yourselves; Pande tells doctors\n",
              "643    2001-01-10  ...  Bureaucracy undermining legislature's 'existence'\n",
              "644    2001-01-10  ...              State police collapses under pressure\n",
              "645    2001-01-10  ...            Court declares Pappu Yadav an absconder\n",
              "2215   2001-03-09  ...  Maneka asks govt to take back land for cow she...\n",
              "3603   2001-04-23  ...  Killer was promised Rs 25;000 for killing Nair...\n",
              "\n",
              "[10 rows x 3 columns]"
            ]
          },
          "metadata": {
            "tags": []
          },
          "execution_count": 140
        }
      ]
    },
    {
      "cell_type": "code",
      "metadata": {
        "colab": {
          "base_uri": "https://localhost:8080/",
          "height": 203
        },
        "id": "cUr2iy7j2W4h",
        "outputId": "d31ff3cb-10fc-4808-8420-1704dcc6a15f"
      },
      "source": [
        "city = pd.DataFrame(columns = ['city_name'])\n",
        "city['city_name'] = cities.headline_category.str.split('.',expand = True)[1]\n",
        "cities = pd.concat([cities, city], axis = 1)\n",
        "cities.head()\n"
      ],
      "execution_count": 141,
      "outputs": [
        {
          "output_type": "execute_result",
          "data": {
            "text/html": [
              "<div>\n",
              "<style scoped>\n",
              "    .dataframe tbody tr th:only-of-type {\n",
              "        vertical-align: middle;\n",
              "    }\n",
              "\n",
              "    .dataframe tbody tr th {\n",
              "        vertical-align: top;\n",
              "    }\n",
              "\n",
              "    .dataframe thead th {\n",
              "        text-align: right;\n",
              "    }\n",
              "</style>\n",
              "<table border=\"1\" class=\"dataframe\">\n",
              "  <thead>\n",
              "    <tr style=\"text-align: right;\">\n",
              "      <th></th>\n",
              "      <th>publish_date</th>\n",
              "      <th>headline_category</th>\n",
              "      <th>headline_text</th>\n",
              "      <th>city_name</th>\n",
              "    </tr>\n",
              "  </thead>\n",
              "  <tbody>\n",
              "    <tr>\n",
              "      <th>273</th>\n",
              "      <td>2001-01-04</td>\n",
              "      <td>city.bengaluru</td>\n",
              "      <td>Three in race for chief secy's post</td>\n",
              "      <td>bengaluru</td>\n",
              "    </tr>\n",
              "    <tr>\n",
              "      <th>274</th>\n",
              "      <td>2001-01-04</td>\n",
              "      <td>city.patna</td>\n",
              "      <td>Druggists' stir leads to shortage of medicines</td>\n",
              "      <td>patna</td>\n",
              "    </tr>\n",
              "    <tr>\n",
              "      <th>277</th>\n",
              "      <td>2001-01-04</td>\n",
              "      <td>city.bengaluru</td>\n",
              "      <td>He's not so inscrutable</td>\n",
              "      <td>bengaluru</td>\n",
              "    </tr>\n",
              "    <tr>\n",
              "      <th>278</th>\n",
              "      <td>2001-01-04</td>\n",
              "      <td>city.delhi</td>\n",
              "      <td>DPCC stages Nyay rally</td>\n",
              "      <td>delhi</td>\n",
              "    </tr>\n",
              "    <tr>\n",
              "      <th>642</th>\n",
              "      <td>2001-01-10</td>\n",
              "      <td>city.patna</td>\n",
              "      <td>Fend for yourselves; Pande tells doctors</td>\n",
              "      <td>patna</td>\n",
              "    </tr>\n",
              "  </tbody>\n",
              "</table>\n",
              "</div>"
            ],
            "text/plain": [
              "    publish_date  ...  city_name\n",
              "273   2001-01-04  ...  bengaluru\n",
              "274   2001-01-04  ...      patna\n",
              "277   2001-01-04  ...  bengaluru\n",
              "278   2001-01-04  ...      delhi\n",
              "642   2001-01-10  ...      patna\n",
              "\n",
              "[5 rows x 4 columns]"
            ]
          },
          "metadata": {
            "tags": []
          },
          "execution_count": 141
        }
      ]
    },
    {
      "cell_type": "code",
      "metadata": {
        "id": "Eb1onY8e2W4i"
      },
      "source": [
        "cities.drop('headline_category', inplace =True,axis =1)\n"
      ],
      "execution_count": 142,
      "outputs": []
    },
    {
      "cell_type": "code",
      "metadata": {
        "colab": {
          "base_uri": "https://localhost:8080/",
          "height": 203
        },
        "id": "E_LLFSdZ2W4i",
        "outputId": "2628c1c9-c5ef-4d51-861a-41332ca9869f"
      },
      "source": [
        "cities.head()"
      ],
      "execution_count": 143,
      "outputs": [
        {
          "output_type": "execute_result",
          "data": {
            "text/html": [
              "<div>\n",
              "<style scoped>\n",
              "    .dataframe tbody tr th:only-of-type {\n",
              "        vertical-align: middle;\n",
              "    }\n",
              "\n",
              "    .dataframe tbody tr th {\n",
              "        vertical-align: top;\n",
              "    }\n",
              "\n",
              "    .dataframe thead th {\n",
              "        text-align: right;\n",
              "    }\n",
              "</style>\n",
              "<table border=\"1\" class=\"dataframe\">\n",
              "  <thead>\n",
              "    <tr style=\"text-align: right;\">\n",
              "      <th></th>\n",
              "      <th>publish_date</th>\n",
              "      <th>headline_text</th>\n",
              "      <th>city_name</th>\n",
              "    </tr>\n",
              "  </thead>\n",
              "  <tbody>\n",
              "    <tr>\n",
              "      <th>273</th>\n",
              "      <td>2001-01-04</td>\n",
              "      <td>Three in race for chief secy's post</td>\n",
              "      <td>bengaluru</td>\n",
              "    </tr>\n",
              "    <tr>\n",
              "      <th>274</th>\n",
              "      <td>2001-01-04</td>\n",
              "      <td>Druggists' stir leads to shortage of medicines</td>\n",
              "      <td>patna</td>\n",
              "    </tr>\n",
              "    <tr>\n",
              "      <th>277</th>\n",
              "      <td>2001-01-04</td>\n",
              "      <td>He's not so inscrutable</td>\n",
              "      <td>bengaluru</td>\n",
              "    </tr>\n",
              "    <tr>\n",
              "      <th>278</th>\n",
              "      <td>2001-01-04</td>\n",
              "      <td>DPCC stages Nyay rally</td>\n",
              "      <td>delhi</td>\n",
              "    </tr>\n",
              "    <tr>\n",
              "      <th>642</th>\n",
              "      <td>2001-01-10</td>\n",
              "      <td>Fend for yourselves; Pande tells doctors</td>\n",
              "      <td>patna</td>\n",
              "    </tr>\n",
              "  </tbody>\n",
              "</table>\n",
              "</div>"
            ],
            "text/plain": [
              "    publish_date                                   headline_text  city_name\n",
              "273   2001-01-04             Three in race for chief secy's post  bengaluru\n",
              "274   2001-01-04  Druggists' stir leads to shortage of medicines      patna\n",
              "277   2001-01-04                         He's not so inscrutable  bengaluru\n",
              "278   2001-01-04                          DPCC stages Nyay rally      delhi\n",
              "642   2001-01-10        Fend for yourselves; Pande tells doctors      patna"
            ]
          },
          "metadata": {
            "tags": []
          },
          "execution_count": 143
        }
      ]
    },
    {
      "cell_type": "code",
      "metadata": {
        "colab": {
          "base_uri": "https://localhost:8080/",
          "height": 234
        },
        "id": "rvrjRhUO2W4i",
        "outputId": "807b9cef-75e2-4c93-fffb-eef57876cda3"
      },
      "source": [
        "cites = cities.groupby(cities['city_name']).agg({'headline_text':'count'})\n",
        "cites.head()"
      ],
      "execution_count": 144,
      "outputs": [
        {
          "output_type": "execute_result",
          "data": {
            "text/html": [
              "<div>\n",
              "<style scoped>\n",
              "    .dataframe tbody tr th:only-of-type {\n",
              "        vertical-align: middle;\n",
              "    }\n",
              "\n",
              "    .dataframe tbody tr th {\n",
              "        vertical-align: top;\n",
              "    }\n",
              "\n",
              "    .dataframe thead th {\n",
              "        text-align: right;\n",
              "    }\n",
              "</style>\n",
              "<table border=\"1\" class=\"dataframe\">\n",
              "  <thead>\n",
              "    <tr style=\"text-align: right;\">\n",
              "      <th></th>\n",
              "      <th>headline_text</th>\n",
              "    </tr>\n",
              "    <tr>\n",
              "      <th>city_name</th>\n",
              "      <th></th>\n",
              "    </tr>\n",
              "  </thead>\n",
              "  <tbody>\n",
              "    <tr>\n",
              "      <th>agartala</th>\n",
              "      <td>1183</td>\n",
              "    </tr>\n",
              "    <tr>\n",
              "      <th>agra</th>\n",
              "      <td>4884</td>\n",
              "    </tr>\n",
              "    <tr>\n",
              "      <th>ahmedabad</th>\n",
              "      <td>89513</td>\n",
              "    </tr>\n",
              "    <tr>\n",
              "      <th>ajmer</th>\n",
              "      <td>1587</td>\n",
              "    </tr>\n",
              "    <tr>\n",
              "      <th>allahabad</th>\n",
              "      <td>19285</td>\n",
              "    </tr>\n",
              "  </tbody>\n",
              "</table>\n",
              "</div>"
            ],
            "text/plain": [
              "           headline_text\n",
              "city_name               \n",
              "agartala            1183\n",
              "agra                4884\n",
              "ahmedabad          89513\n",
              "ajmer               1587\n",
              "allahabad          19285"
            ]
          },
          "metadata": {
            "tags": []
          },
          "execution_count": 144
        }
      ]
    },
    {
      "cell_type": "code",
      "metadata": {
        "id": "KGdPrxim2W4j"
      },
      "source": [
        "cites.rename(columns = {'headline_text':'headline_count'}, inplace = True)"
      ],
      "execution_count": 145,
      "outputs": []
    },
    {
      "cell_type": "code",
      "metadata": {
        "colab": {
          "base_uri": "https://localhost:8080/",
          "height": 234
        },
        "id": "ql5egbtu2W4j",
        "outputId": "453d847f-cb86-44cb-e37c-34b6cfab1e8a"
      },
      "source": [
        "cites = cites.sort_values(by='headline_count',ascending=False)\n",
        "cites.head()"
      ],
      "execution_count": 146,
      "outputs": [
        {
          "output_type": "execute_result",
          "data": {
            "text/html": [
              "<div>\n",
              "<style scoped>\n",
              "    .dataframe tbody tr th:only-of-type {\n",
              "        vertical-align: middle;\n",
              "    }\n",
              "\n",
              "    .dataframe tbody tr th {\n",
              "        vertical-align: top;\n",
              "    }\n",
              "\n",
              "    .dataframe thead th {\n",
              "        text-align: right;\n",
              "    }\n",
              "</style>\n",
              "<table border=\"1\" class=\"dataframe\">\n",
              "  <thead>\n",
              "    <tr style=\"text-align: right;\">\n",
              "      <th></th>\n",
              "      <th>headline_count</th>\n",
              "    </tr>\n",
              "    <tr>\n",
              "      <th>city_name</th>\n",
              "      <th></th>\n",
              "    </tr>\n",
              "  </thead>\n",
              "  <tbody>\n",
              "    <tr>\n",
              "      <th>mumbai</th>\n",
              "      <td>134428</td>\n",
              "    </tr>\n",
              "    <tr>\n",
              "      <th>delhi</th>\n",
              "      <td>127717</td>\n",
              "    </tr>\n",
              "    <tr>\n",
              "      <th>chandigarh</th>\n",
              "      <td>110453</td>\n",
              "    </tr>\n",
              "    <tr>\n",
              "      <th>hyderabad</th>\n",
              "      <td>104692</td>\n",
              "    </tr>\n",
              "    <tr>\n",
              "      <th>bengaluru</th>\n",
              "      <td>93663</td>\n",
              "    </tr>\n",
              "  </tbody>\n",
              "</table>\n",
              "</div>"
            ],
            "text/plain": [
              "            headline_count\n",
              "city_name                 \n",
              "mumbai              134428\n",
              "delhi               127717\n",
              "chandigarh          110453\n",
              "hyderabad           104692\n",
              "bengaluru            93663"
            ]
          },
          "metadata": {
            "tags": []
          },
          "execution_count": 146
        }
      ]
    },
    {
      "cell_type": "code",
      "metadata": {
        "id": "k-yvDB8Q2W4k"
      },
      "source": [
        "top10cites = cites.head(10)\n"
      ],
      "execution_count": 147,
      "outputs": []
    },
    {
      "cell_type": "code",
      "metadata": {
        "id": "Qcks0kCa2W4k"
      },
      "source": [
        "def fig_plot(top10cites,title1):\n",
        "    fig = px.line(top10cites,title =title1)\n",
        "    for i in top10cites.columns[0:]:\n",
        "        fig.add_bar(x= top10cites.index ,y = top10cites['headline_count'],name = i)\n",
        "    fig.show()\n"
      ],
      "execution_count": 148,
      "outputs": []
    },
    {
      "cell_type": "code",
      "metadata": {
        "colab": {
          "base_uri": "https://localhost:8080/",
          "height": 542
        },
        "id": "B5hOHz2c2W4k",
        "outputId": "3e4537fb-98c3-44b7-8961-071fcc47b896"
      },
      "source": [
        "fig_plot(top10cites,'Count of Headlines for top10 Cities')"
      ],
      "execution_count": 149,
      "outputs": [
        {
          "output_type": "display_data",
          "data": {
            "text/html": [
              "<html>\n",
              "<head><meta charset=\"utf-8\" /></head>\n",
              "<body>\n",
              "    <div>\n",
              "            <script src=\"https://cdnjs.cloudflare.com/ajax/libs/mathjax/2.7.5/MathJax.js?config=TeX-AMS-MML_SVG\"></script><script type=\"text/javascript\">if (window.MathJax) {MathJax.Hub.Config({SVG: {font: \"STIX-Web\"}});}</script>\n",
              "                <script type=\"text/javascript\">window.PlotlyConfig = {MathJaxConfig: 'local'};</script>\n",
              "        <script src=\"https://cdn.plot.ly/plotly-latest.min.js\"></script>    \n",
              "            <div id=\"95935b19-bd45-42cc-b61c-cdff511a1aca\" class=\"plotly-graph-div\" style=\"height:525px; width:100%;\"></div>\n",
              "            <script type=\"text/javascript\">\n",
              "                \n",
              "                    window.PLOTLYENV=window.PLOTLYENV || {};\n",
              "                    \n",
              "                if (document.getElementById(\"95935b19-bd45-42cc-b61c-cdff511a1aca\")) {\n",
              "                    Plotly.newPlot(\n",
              "                        '95935b19-bd45-42cc-b61c-cdff511a1aca',\n",
              "                        [{\"name\": \"headline_count\", \"type\": \"bar\", \"x\": [\"mumbai\", \"delhi\", \"chandigarh\", \"hyderabad\", \"bengaluru\", \"ahmedabad\", \"pune\", \"lucknow\", \"kolkata\", \"nagpur\"], \"y\": [134428, 127717, 110453, 104692, 93663, 89513, 88590, 86275, 84616, 80821]}],\n",
              "                        {\"legend\": {\"tracegroupgap\": 0}, \"template\": {\"data\": {\"bar\": [{\"error_x\": {\"color\": \"#2a3f5f\"}, \"error_y\": {\"color\": \"#2a3f5f\"}, \"marker\": {\"line\": {\"color\": \"#E5ECF6\", \"width\": 0.5}}, \"type\": \"bar\"}], \"barpolar\": [{\"marker\": {\"line\": {\"color\": \"#E5ECF6\", \"width\": 0.5}}, \"type\": \"barpolar\"}], \"carpet\": [{\"aaxis\": {\"endlinecolor\": \"#2a3f5f\", \"gridcolor\": \"white\", \"linecolor\": \"white\", \"minorgridcolor\": \"white\", \"startlinecolor\": \"#2a3f5f\"}, \"baxis\": {\"endlinecolor\": \"#2a3f5f\", \"gridcolor\": \"white\", \"linecolor\": \"white\", \"minorgridcolor\": \"white\", \"startlinecolor\": \"#2a3f5f\"}, \"type\": \"carpet\"}], \"choropleth\": [{\"colorbar\": {\"outlinewidth\": 0, \"ticks\": \"\"}, \"type\": \"choropleth\"}], \"contour\": [{\"colorbar\": {\"outlinewidth\": 0, \"ticks\": \"\"}, \"colorscale\": [[0.0, \"#0d0887\"], [0.1111111111111111, \"#46039f\"], [0.2222222222222222, \"#7201a8\"], [0.3333333333333333, \"#9c179e\"], [0.4444444444444444, \"#bd3786\"], [0.5555555555555556, \"#d8576b\"], [0.6666666666666666, \"#ed7953\"], [0.7777777777777778, \"#fb9f3a\"], [0.8888888888888888, \"#fdca26\"], [1.0, \"#f0f921\"]], \"type\": \"contour\"}], \"contourcarpet\": [{\"colorbar\": {\"outlinewidth\": 0, \"ticks\": \"\"}, \"type\": \"contourcarpet\"}], \"heatmap\": [{\"colorbar\": {\"outlinewidth\": 0, \"ticks\": \"\"}, \"colorscale\": [[0.0, \"#0d0887\"], [0.1111111111111111, \"#46039f\"], [0.2222222222222222, \"#7201a8\"], [0.3333333333333333, \"#9c179e\"], [0.4444444444444444, \"#bd3786\"], [0.5555555555555556, \"#d8576b\"], [0.6666666666666666, \"#ed7953\"], [0.7777777777777778, \"#fb9f3a\"], [0.8888888888888888, \"#fdca26\"], [1.0, \"#f0f921\"]], \"type\": \"heatmap\"}], \"heatmapgl\": [{\"colorbar\": {\"outlinewidth\": 0, \"ticks\": \"\"}, \"colorscale\": [[0.0, \"#0d0887\"], [0.1111111111111111, \"#46039f\"], [0.2222222222222222, \"#7201a8\"], [0.3333333333333333, \"#9c179e\"], [0.4444444444444444, \"#bd3786\"], [0.5555555555555556, \"#d8576b\"], [0.6666666666666666, \"#ed7953\"], [0.7777777777777778, \"#fb9f3a\"], [0.8888888888888888, \"#fdca26\"], [1.0, \"#f0f921\"]], \"type\": \"heatmapgl\"}], \"histogram\": [{\"marker\": {\"colorbar\": {\"outlinewidth\": 0, \"ticks\": \"\"}}, \"type\": \"histogram\"}], \"histogram2d\": [{\"colorbar\": {\"outlinewidth\": 0, \"ticks\": \"\"}, \"colorscale\": [[0.0, \"#0d0887\"], [0.1111111111111111, \"#46039f\"], [0.2222222222222222, \"#7201a8\"], [0.3333333333333333, \"#9c179e\"], [0.4444444444444444, \"#bd3786\"], [0.5555555555555556, \"#d8576b\"], [0.6666666666666666, \"#ed7953\"], [0.7777777777777778, \"#fb9f3a\"], [0.8888888888888888, \"#fdca26\"], [1.0, \"#f0f921\"]], \"type\": \"histogram2d\"}], \"histogram2dcontour\": [{\"colorbar\": {\"outlinewidth\": 0, \"ticks\": \"\"}, \"colorscale\": [[0.0, \"#0d0887\"], [0.1111111111111111, \"#46039f\"], [0.2222222222222222, \"#7201a8\"], [0.3333333333333333, \"#9c179e\"], [0.4444444444444444, \"#bd3786\"], [0.5555555555555556, \"#d8576b\"], [0.6666666666666666, \"#ed7953\"], [0.7777777777777778, \"#fb9f3a\"], [0.8888888888888888, \"#fdca26\"], [1.0, \"#f0f921\"]], \"type\": \"histogram2dcontour\"}], \"mesh3d\": [{\"colorbar\": {\"outlinewidth\": 0, \"ticks\": \"\"}, \"type\": \"mesh3d\"}], \"parcoords\": [{\"line\": {\"colorbar\": {\"outlinewidth\": 0, \"ticks\": \"\"}}, \"type\": \"parcoords\"}], \"pie\": [{\"automargin\": true, \"type\": \"pie\"}], \"scatter\": [{\"marker\": {\"colorbar\": {\"outlinewidth\": 0, \"ticks\": \"\"}}, \"type\": \"scatter\"}], \"scatter3d\": [{\"line\": {\"colorbar\": {\"outlinewidth\": 0, \"ticks\": \"\"}}, \"marker\": {\"colorbar\": {\"outlinewidth\": 0, \"ticks\": \"\"}}, \"type\": \"scatter3d\"}], \"scattercarpet\": [{\"marker\": {\"colorbar\": {\"outlinewidth\": 0, \"ticks\": \"\"}}, \"type\": \"scattercarpet\"}], \"scattergeo\": [{\"marker\": {\"colorbar\": {\"outlinewidth\": 0, \"ticks\": \"\"}}, \"type\": \"scattergeo\"}], \"scattergl\": [{\"marker\": {\"colorbar\": {\"outlinewidth\": 0, \"ticks\": \"\"}}, \"type\": \"scattergl\"}], \"scattermapbox\": [{\"marker\": {\"colorbar\": {\"outlinewidth\": 0, \"ticks\": \"\"}}, \"type\": \"scattermapbox\"}], \"scatterpolar\": [{\"marker\": {\"colorbar\": {\"outlinewidth\": 0, \"ticks\": \"\"}}, \"type\": \"scatterpolar\"}], \"scatterpolargl\": [{\"marker\": {\"colorbar\": {\"outlinewidth\": 0, \"ticks\": \"\"}}, \"type\": \"scatterpolargl\"}], \"scatterternary\": [{\"marker\": {\"colorbar\": {\"outlinewidth\": 0, \"ticks\": \"\"}}, \"type\": \"scatterternary\"}], \"surface\": [{\"colorbar\": {\"outlinewidth\": 0, \"ticks\": \"\"}, \"colorscale\": [[0.0, \"#0d0887\"], [0.1111111111111111, \"#46039f\"], [0.2222222222222222, \"#7201a8\"], [0.3333333333333333, \"#9c179e\"], [0.4444444444444444, \"#bd3786\"], [0.5555555555555556, \"#d8576b\"], [0.6666666666666666, \"#ed7953\"], [0.7777777777777778, \"#fb9f3a\"], [0.8888888888888888, \"#fdca26\"], [1.0, \"#f0f921\"]], \"type\": \"surface\"}], \"table\": [{\"cells\": {\"fill\": {\"color\": \"#EBF0F8\"}, \"line\": {\"color\": \"white\"}}, \"header\": {\"fill\": {\"color\": \"#C8D4E3\"}, \"line\": {\"color\": \"white\"}}, \"type\": \"table\"}]}, \"layout\": {\"annotationdefaults\": {\"arrowcolor\": \"#2a3f5f\", \"arrowhead\": 0, \"arrowwidth\": 1}, \"coloraxis\": {\"colorbar\": {\"outlinewidth\": 0, \"ticks\": \"\"}}, \"colorscale\": {\"diverging\": [[0, \"#8e0152\"], [0.1, \"#c51b7d\"], [0.2, \"#de77ae\"], [0.3, \"#f1b6da\"], [0.4, \"#fde0ef\"], [0.5, \"#f7f7f7\"], [0.6, \"#e6f5d0\"], [0.7, \"#b8e186\"], [0.8, \"#7fbc41\"], [0.9, \"#4d9221\"], [1, \"#276419\"]], \"sequential\": [[0.0, \"#0d0887\"], [0.1111111111111111, \"#46039f\"], [0.2222222222222222, \"#7201a8\"], [0.3333333333333333, \"#9c179e\"], [0.4444444444444444, \"#bd3786\"], [0.5555555555555556, \"#d8576b\"], [0.6666666666666666, \"#ed7953\"], [0.7777777777777778, \"#fb9f3a\"], [0.8888888888888888, \"#fdca26\"], [1.0, \"#f0f921\"]], \"sequentialminus\": [[0.0, \"#0d0887\"], [0.1111111111111111, \"#46039f\"], [0.2222222222222222, \"#7201a8\"], [0.3333333333333333, \"#9c179e\"], [0.4444444444444444, \"#bd3786\"], [0.5555555555555556, \"#d8576b\"], [0.6666666666666666, \"#ed7953\"], [0.7777777777777778, \"#fb9f3a\"], [0.8888888888888888, \"#fdca26\"], [1.0, \"#f0f921\"]]}, \"colorway\": [\"#636efa\", \"#EF553B\", \"#00cc96\", \"#ab63fa\", \"#FFA15A\", \"#19d3f3\", \"#FF6692\", \"#B6E880\", \"#FF97FF\", \"#FECB52\"], \"font\": {\"color\": \"#2a3f5f\"}, \"geo\": {\"bgcolor\": \"white\", \"lakecolor\": \"white\", \"landcolor\": \"#E5ECF6\", \"showlakes\": true, \"showland\": true, \"subunitcolor\": \"white\"}, \"hoverlabel\": {\"align\": \"left\"}, \"hovermode\": \"closest\", \"mapbox\": {\"style\": \"light\"}, \"paper_bgcolor\": \"white\", \"plot_bgcolor\": \"#E5ECF6\", \"polar\": {\"angularaxis\": {\"gridcolor\": \"white\", \"linecolor\": \"white\", \"ticks\": \"\"}, \"bgcolor\": \"#E5ECF6\", \"radialaxis\": {\"gridcolor\": \"white\", \"linecolor\": \"white\", \"ticks\": \"\"}}, \"scene\": {\"xaxis\": {\"backgroundcolor\": \"#E5ECF6\", \"gridcolor\": \"white\", \"gridwidth\": 2, \"linecolor\": \"white\", \"showbackground\": true, \"ticks\": \"\", \"zerolinecolor\": \"white\"}, \"yaxis\": {\"backgroundcolor\": \"#E5ECF6\", \"gridcolor\": \"white\", \"gridwidth\": 2, \"linecolor\": \"white\", \"showbackground\": true, \"ticks\": \"\", \"zerolinecolor\": \"white\"}, \"zaxis\": {\"backgroundcolor\": \"#E5ECF6\", \"gridcolor\": \"white\", \"gridwidth\": 2, \"linecolor\": \"white\", \"showbackground\": true, \"ticks\": \"\", \"zerolinecolor\": \"white\"}}, \"shapedefaults\": {\"line\": {\"color\": \"#2a3f5f\"}}, \"ternary\": {\"aaxis\": {\"gridcolor\": \"white\", \"linecolor\": \"white\", \"ticks\": \"\"}, \"baxis\": {\"gridcolor\": \"white\", \"linecolor\": \"white\", \"ticks\": \"\"}, \"bgcolor\": \"#E5ECF6\", \"caxis\": {\"gridcolor\": \"white\", \"linecolor\": \"white\", \"ticks\": \"\"}}, \"title\": {\"x\": 0.05}, \"xaxis\": {\"automargin\": true, \"gridcolor\": \"white\", \"linecolor\": \"white\", \"ticks\": \"\", \"title\": {\"standoff\": 15}, \"zerolinecolor\": \"white\", \"zerolinewidth\": 2}, \"yaxis\": {\"automargin\": true, \"gridcolor\": \"white\", \"linecolor\": \"white\", \"ticks\": \"\", \"title\": {\"standoff\": 15}, \"zerolinecolor\": \"white\", \"zerolinewidth\": 2}}}, \"title\": {\"text\": \"Count of Headlines for top10 Cities\"}, \"xaxis\": {\"anchor\": \"y\", \"domain\": [0.0, 1.0]}, \"yaxis\": {\"anchor\": \"x\", \"domain\": [0.0, 1.0]}},\n",
              "                        {\"responsive\": true}\n",
              "                    ).then(function(){\n",
              "                            \n",
              "var gd = document.getElementById('95935b19-bd45-42cc-b61c-cdff511a1aca');\n",
              "var x = new MutationObserver(function (mutations, observer) {{\n",
              "        var display = window.getComputedStyle(gd).display;\n",
              "        if (!display || display === 'none') {{\n",
              "            console.log([gd, 'removed!']);\n",
              "            Plotly.purge(gd);\n",
              "            observer.disconnect();\n",
              "        }}\n",
              "}});\n",
              "\n",
              "// Listen for the removal of the full notebook cells\n",
              "var notebookContainer = gd.closest('#notebook-container');\n",
              "if (notebookContainer) {{\n",
              "    x.observe(notebookContainer, {childList: true});\n",
              "}}\n",
              "\n",
              "// Listen for the clearing of the current output cell\n",
              "var outputEl = gd.closest('.output');\n",
              "if (outputEl) {{\n",
              "    x.observe(outputEl, {childList: true});\n",
              "}}\n",
              "\n",
              "                        })\n",
              "                };\n",
              "                \n",
              "            </script>\n",
              "        </div>\n",
              "</body>\n",
              "</html>"
            ]
          },
          "metadata": {
            "tags": []
          }
        }
      ]
    },
    {
      "cell_type": "code",
      "metadata": {
        "colab": {
          "base_uri": "https://localhost:8080/",
          "height": 203
        },
        "id": "K158KgFX2W4t",
        "outputId": "dd28abaf-ef58-49bc-ea81-764b143a0fae"
      },
      "source": [
        "cities.head()\n"
      ],
      "execution_count": 150,
      "outputs": [
        {
          "output_type": "execute_result",
          "data": {
            "text/html": [
              "<div>\n",
              "<style scoped>\n",
              "    .dataframe tbody tr th:only-of-type {\n",
              "        vertical-align: middle;\n",
              "    }\n",
              "\n",
              "    .dataframe tbody tr th {\n",
              "        vertical-align: top;\n",
              "    }\n",
              "\n",
              "    .dataframe thead th {\n",
              "        text-align: right;\n",
              "    }\n",
              "</style>\n",
              "<table border=\"1\" class=\"dataframe\">\n",
              "  <thead>\n",
              "    <tr style=\"text-align: right;\">\n",
              "      <th></th>\n",
              "      <th>publish_date</th>\n",
              "      <th>headline_text</th>\n",
              "      <th>city_name</th>\n",
              "    </tr>\n",
              "  </thead>\n",
              "  <tbody>\n",
              "    <tr>\n",
              "      <th>273</th>\n",
              "      <td>2001-01-04</td>\n",
              "      <td>Three in race for chief secy's post</td>\n",
              "      <td>bengaluru</td>\n",
              "    </tr>\n",
              "    <tr>\n",
              "      <th>274</th>\n",
              "      <td>2001-01-04</td>\n",
              "      <td>Druggists' stir leads to shortage of medicines</td>\n",
              "      <td>patna</td>\n",
              "    </tr>\n",
              "    <tr>\n",
              "      <th>277</th>\n",
              "      <td>2001-01-04</td>\n",
              "      <td>He's not so inscrutable</td>\n",
              "      <td>bengaluru</td>\n",
              "    </tr>\n",
              "    <tr>\n",
              "      <th>278</th>\n",
              "      <td>2001-01-04</td>\n",
              "      <td>DPCC stages Nyay rally</td>\n",
              "      <td>delhi</td>\n",
              "    </tr>\n",
              "    <tr>\n",
              "      <th>642</th>\n",
              "      <td>2001-01-10</td>\n",
              "      <td>Fend for yourselves; Pande tells doctors</td>\n",
              "      <td>patna</td>\n",
              "    </tr>\n",
              "  </tbody>\n",
              "</table>\n",
              "</div>"
            ],
            "text/plain": [
              "    publish_date                                   headline_text  city_name\n",
              "273   2001-01-04             Three in race for chief secy's post  bengaluru\n",
              "274   2001-01-04  Druggists' stir leads to shortage of medicines      patna\n",
              "277   2001-01-04                         He's not so inscrutable  bengaluru\n",
              "278   2001-01-04                          DPCC stages Nyay rally      delhi\n",
              "642   2001-01-10        Fend for yourselves; Pande tells doctors      patna"
            ]
          },
          "metadata": {
            "tags": []
          },
          "execution_count": 150
        }
      ]
    },
    {
      "cell_type": "markdown",
      "metadata": {
        "id": "kU20TveD2W4u"
      },
      "source": [
        "### Analaysing \"HEADLINE_CATEGORY\" with \"CATEGORIES\""
      ]
    },
    {
      "cell_type": "code",
      "metadata": {
        "colab": {
          "base_uri": "https://localhost:8080/",
          "height": 203
        },
        "id": "zYbhpGT82W4u",
        "outputId": "4ac1a20f-8d5a-4ab9-d82e-1c8343c7b2a4"
      },
      "source": [
        "news.head()"
      ],
      "execution_count": 151,
      "outputs": [
        {
          "output_type": "execute_result",
          "data": {
            "text/html": [
              "<div>\n",
              "<style scoped>\n",
              "    .dataframe tbody tr th:only-of-type {\n",
              "        vertical-align: middle;\n",
              "    }\n",
              "\n",
              "    .dataframe tbody tr th {\n",
              "        vertical-align: top;\n",
              "    }\n",
              "\n",
              "    .dataframe thead th {\n",
              "        text-align: right;\n",
              "    }\n",
              "</style>\n",
              "<table border=\"1\" class=\"dataframe\">\n",
              "  <thead>\n",
              "    <tr style=\"text-align: right;\">\n",
              "      <th></th>\n",
              "      <th>publish_date</th>\n",
              "      <th>headline_category</th>\n",
              "      <th>headline_text</th>\n",
              "    </tr>\n",
              "  </thead>\n",
              "  <tbody>\n",
              "    <tr>\n",
              "      <th>0</th>\n",
              "      <td>2001-01-02</td>\n",
              "      <td>unknown</td>\n",
              "      <td>Status quo will not be disturbed at Ayodhya; s...</td>\n",
              "    </tr>\n",
              "    <tr>\n",
              "      <th>1</th>\n",
              "      <td>2001-01-02</td>\n",
              "      <td>unknown</td>\n",
              "      <td>Fissures in Hurriyat over Pak visit</td>\n",
              "    </tr>\n",
              "    <tr>\n",
              "      <th>2</th>\n",
              "      <td>2001-01-02</td>\n",
              "      <td>unknown</td>\n",
              "      <td>America's unwanted heading for India?</td>\n",
              "    </tr>\n",
              "    <tr>\n",
              "      <th>3</th>\n",
              "      <td>2001-01-02</td>\n",
              "      <td>unknown</td>\n",
              "      <td>For bigwigs; it is destination Goa</td>\n",
              "    </tr>\n",
              "    <tr>\n",
              "      <th>4</th>\n",
              "      <td>2001-01-02</td>\n",
              "      <td>unknown</td>\n",
              "      <td>Extra buses to clear tourist traffic</td>\n",
              "    </tr>\n",
              "  </tbody>\n",
              "</table>\n",
              "</div>"
            ],
            "text/plain": [
              "  publish_date  ...                                      headline_text\n",
              "0   2001-01-02  ...  Status quo will not be disturbed at Ayodhya; s...\n",
              "1   2001-01-02  ...                Fissures in Hurriyat over Pak visit\n",
              "2   2001-01-02  ...              America's unwanted heading for India?\n",
              "3   2001-01-02  ...                 For bigwigs; it is destination Goa\n",
              "4   2001-01-02  ...               Extra buses to clear tourist traffic\n",
              "\n",
              "[5 rows x 3 columns]"
            ]
          },
          "metadata": {
            "tags": []
          },
          "execution_count": 151
        }
      ]
    },
    {
      "cell_type": "code",
      "metadata": {
        "id": "m5kjL-rB2W4u"
      },
      "source": [
        "news['category']=news['headline_category'].str.split('.').map(lambda x : x[0])"
      ],
      "execution_count": 152,
      "outputs": []
    },
    {
      "cell_type": "code",
      "metadata": {
        "colab": {
          "base_uri": "https://localhost:8080/",
          "height": 357
        },
        "id": "j_RYBDCd2W4u",
        "outputId": "ee4fa232-914d-4060-bf4e-869288e7cf39"
      },
      "source": [
        "categories = news.groupby(['category']).agg({'headline_text':'count'}).sort_values(by='headline_text',ascending = False)\n",
        "news_cat=categories.head(10)\n",
        "news_cat.reset_index(inplace = True)\n",
        "news_cat"
      ],
      "execution_count": 153,
      "outputs": [
        {
          "output_type": "execute_result",
          "data": {
            "text/html": [
              "<div>\n",
              "<style scoped>\n",
              "    .dataframe tbody tr th:only-of-type {\n",
              "        vertical-align: middle;\n",
              "    }\n",
              "\n",
              "    .dataframe tbody tr th {\n",
              "        vertical-align: top;\n",
              "    }\n",
              "\n",
              "    .dataframe thead th {\n",
              "        text-align: right;\n",
              "    }\n",
              "</style>\n",
              "<table border=\"1\" class=\"dataframe\">\n",
              "  <thead>\n",
              "    <tr style=\"text-align: right;\">\n",
              "      <th></th>\n",
              "      <th>category</th>\n",
              "      <th>headline_text</th>\n",
              "    </tr>\n",
              "  </thead>\n",
              "  <tbody>\n",
              "    <tr>\n",
              "      <th>0</th>\n",
              "      <td>city</td>\n",
              "      <td>1922823</td>\n",
              "    </tr>\n",
              "    <tr>\n",
              "      <th>1</th>\n",
              "      <td>india</td>\n",
              "      <td>288541</td>\n",
              "    </tr>\n",
              "    <tr>\n",
              "      <th>2</th>\n",
              "      <td>entertainment</td>\n",
              "      <td>228300</td>\n",
              "    </tr>\n",
              "    <tr>\n",
              "      <th>3</th>\n",
              "      <td>unknown</td>\n",
              "      <td>209582</td>\n",
              "    </tr>\n",
              "    <tr>\n",
              "      <th>4</th>\n",
              "      <td>business</td>\n",
              "      <td>155508</td>\n",
              "    </tr>\n",
              "    <tr>\n",
              "      <th>5</th>\n",
              "      <td>sports</td>\n",
              "      <td>130211</td>\n",
              "    </tr>\n",
              "    <tr>\n",
              "      <th>6</th>\n",
              "      <td>home</td>\n",
              "      <td>99418</td>\n",
              "    </tr>\n",
              "    <tr>\n",
              "      <th>7</th>\n",
              "      <td>world</td>\n",
              "      <td>63397</td>\n",
              "    </tr>\n",
              "    <tr>\n",
              "      <th>8</th>\n",
              "      <td>life-style</td>\n",
              "      <td>43900</td>\n",
              "    </tr>\n",
              "    <tr>\n",
              "      <th>9</th>\n",
              "      <td>tv</td>\n",
              "      <td>38351</td>\n",
              "    </tr>\n",
              "  </tbody>\n",
              "</table>\n",
              "</div>"
            ],
            "text/plain": [
              "        category  headline_text\n",
              "0           city        1922823\n",
              "1          india         288541\n",
              "2  entertainment         228300\n",
              "3        unknown         209582\n",
              "4       business         155508\n",
              "5         sports         130211\n",
              "6           home          99418\n",
              "7          world          63397\n",
              "8     life-style          43900\n",
              "9             tv          38351"
            ]
          },
          "metadata": {
            "tags": []
          },
          "execution_count": 153
        }
      ]
    },
    {
      "cell_type": "code",
      "metadata": {
        "colab": {
          "base_uri": "https://localhost:8080/",
          "height": 350
        },
        "id": "IUnX2Qwf2W4v",
        "outputId": "51ec9be2-a717-4caa-e394-a2ae3ddf2186"
      },
      "source": [
        "import matplotlib.colors as mcolors\n",
        "plt.figure(figsize=(17,5))\n",
        "plt.bar(news_cat.category,height= news_cat.headline_text, color = 'c')\n",
        "plt.xlabel('Category')\n",
        "plt.ylabel('Number of articles')\n",
        "plt.title('Top 10 Categories')\n",
        "plt.show()"
      ],
      "execution_count": 154,
      "outputs": [
        {
          "output_type": "display_data",
          "data": {
            "image/png": "[encoded data removed]",
            "text/plain": [
              "<Figure size 1224x360 with 1 Axes>"
            ]
          },
          "metadata": {
            "tags": [],
            "needs_background": "light"
          }
        }
      ]
    },
    {
      "cell_type": "code",
      "metadata": {
        "colab": {
          "base_uri": "https://localhost:8080/",
          "height": 203
        },
        "id": "dCmckTrm2W4v",
        "outputId": "50d3f9fc-0275-482f-820f-3a3695047a7e"
      },
      "source": [
        "news.drop('headline_category', inplace  = True, axis =1)\n",
        "news.head()"
      ],
      "execution_count": 155,
      "outputs": [
        {
          "output_type": "execute_result",
          "data": {
            "text/html": [
              "<div>\n",
              "<style scoped>\n",
              "    .dataframe tbody tr th:only-of-type {\n",
              "        vertical-align: middle;\n",
              "    }\n",
              "\n",
              "    .dataframe tbody tr th {\n",
              "        vertical-align: top;\n",
              "    }\n",
              "\n",
              "    .dataframe thead th {\n",
              "        text-align: right;\n",
              "    }\n",
              "</style>\n",
              "<table border=\"1\" class=\"dataframe\">\n",
              "  <thead>\n",
              "    <tr style=\"text-align: right;\">\n",
              "      <th></th>\n",
              "      <th>publish_date</th>\n",
              "      <th>headline_text</th>\n",
              "      <th>category</th>\n",
              "    </tr>\n",
              "  </thead>\n",
              "  <tbody>\n",
              "    <tr>\n",
              "      <th>0</th>\n",
              "      <td>2001-01-02</td>\n",
              "      <td>Status quo will not be disturbed at Ayodhya; s...</td>\n",
              "      <td>unknown</td>\n",
              "    </tr>\n",
              "    <tr>\n",
              "      <th>1</th>\n",
              "      <td>2001-01-02</td>\n",
              "      <td>Fissures in Hurriyat over Pak visit</td>\n",
              "      <td>unknown</td>\n",
              "    </tr>\n",
              "    <tr>\n",
              "      <th>2</th>\n",
              "      <td>2001-01-02</td>\n",
              "      <td>America's unwanted heading for India?</td>\n",
              "      <td>unknown</td>\n",
              "    </tr>\n",
              "    <tr>\n",
              "      <th>3</th>\n",
              "      <td>2001-01-02</td>\n",
              "      <td>For bigwigs; it is destination Goa</td>\n",
              "      <td>unknown</td>\n",
              "    </tr>\n",
              "    <tr>\n",
              "      <th>4</th>\n",
              "      <td>2001-01-02</td>\n",
              "      <td>Extra buses to clear tourist traffic</td>\n",
              "      <td>unknown</td>\n",
              "    </tr>\n",
              "  </tbody>\n",
              "</table>\n",
              "</div>"
            ],
            "text/plain": [
              "  publish_date                                      headline_text category\n",
              "0   2001-01-02  Status quo will not be disturbed at Ayodhya; s...  unknown\n",
              "1   2001-01-02                Fissures in Hurriyat over Pak visit  unknown\n",
              "2   2001-01-02              America's unwanted heading for India?  unknown\n",
              "3   2001-01-02                 For bigwigs; it is destination Goa  unknown\n",
              "4   2001-01-02               Extra buses to clear tourist traffic  unknown"
            ]
          },
          "metadata": {
            "tags": []
          },
          "execution_count": 155
        }
      ]
    },
    {
      "cell_type": "markdown",
      "metadata": {
        "id": "VM3DKhaj2W4v"
      },
      "source": [
        "### Cleaning the data -Removing Stop words"
      ]
    },
    {
      "cell_type": "code",
      "metadata": {
        "id": "-JRs7ibX2W4w"
      },
      "source": [
        "headline_text = ' '.join(news['headline_text'].str.lower())"
      ],
      "execution_count": 156,
      "outputs": []
    },
    {
      "cell_type": "code",
      "metadata": {
        "colab": {
          "base_uri": "https://localhost:8080/"
        },
        "id": "58d8yIYv2W4w",
        "outputId": "2007ece4-67e7-4f2c-f808-476c2d8e403a"
      },
      "source": [
        "import nltk\n",
        "from nltk.corpus import stopwords\n",
        "nltk.download('stopwords')\n",
        "stop_words = set(stopwords.words('english'))"
      ],
      "execution_count": 157,
      "outputs": [
        {
          "output_type": "stream",
          "text": [
            "[nltk_data] Downloading package stopwords to /root/nltk_data...\n",
            "[nltk_data]   Unzipping corpora/stopwords.zip.\n"
          ],
          "name": "stdout"
        }
      ]
    },
    {
      "cell_type": "code",
      "metadata": {
        "id": "hxRmT0582W4w"
      },
      "source": [
        "wordcloud = WordCloud(stopwords=stop_words, background_color=\"white\", max_words=1000).generate(headline_text)"
      ],
      "execution_count": 158,
      "outputs": []
    },
    {
      "cell_type": "code",
      "metadata": {
        "scrolled": false,
        "colab": {
          "base_uri": "https://localhost:8080/",
          "height": 310
        },
        "id": "TsLxLGcT2W4w",
        "outputId": "e850f46e-7cb6-4155-fa40-4ef1acf4eb44"
      },
      "source": [
        "rcParams['figure.figsize'] = 10, 10\n",
        "plt.imshow(wordcloud)\n",
        "plt.axis(\"off\")\n",
        "plt.show()"
      ],
      "execution_count": 159,
      "outputs": [
        {
          "output_type": "display_data",
          "data": {
            "image/png": "[encoded data removed]",
            "text/plain": [
              "<Figure size 720x720 with 1 Axes>"
            ]
          },
          "metadata": {
            "tags": [],
            "needs_background": "light"
          }
        }
      ]
    },
    {
      "cell_type": "markdown",
      "metadata": {
        "id": "iZVwarLt2W4x"
      },
      "source": [
        "### Sentimental Analaysis -- Assigning Polarity to the Headlines"
      ]
    },
    {
      "cell_type": "code",
      "metadata": {
        "id": "lWcRhn012W4x"
      },
      "source": [
        "# Create a function to get the subjectivity\n",
        "def Subjectivity(text):\n",
        "       return TextBlob(text).sentiment.subjectivity\n",
        "\n",
        "# Create a function to get the polarity\n",
        "def Polarity(text):\n",
        "      return  TextBlob(text).sentiment.polarity"
      ],
      "execution_count": 160,
      "outputs": []
    },
    {
      "cell_type": "code",
      "metadata": {
        "id": "Kzd7lkNl2W4x"
      },
      "source": [
        "news['Subjectivity'] =news['headline_text'].apply(Subjectivity)\n",
        "news['Polarity'] =news['headline_text'].apply(Polarity)"
      ],
      "execution_count": 161,
      "outputs": []
    },
    {
      "cell_type": "code",
      "metadata": {
        "id": "vu9UStcR2W4x"
      },
      "source": [
        "import nltk\n",
        "\n",
        "senti = SentimentIntensityAnalyzer()"
      ],
      "execution_count": 165,
      "outputs": []
    },
    {
      "cell_type": "code",
      "metadata": {
        "id": "YrQmZS3O2W4y"
      },
      "source": [
        "news['Compound'] = [senti.polarity_scores(s)['compound'] for s in news['headline_text']]\n",
        "news['Negative'] = [senti.polarity_scores(s)['neg'] for s in news['headline_text']]\n",
        "news['Neutral'] = [senti.polarity_scores(s)['neu'] for s in news['headline_text']]\n",
        "news['Positive'] = [senti.polarity_scores(s)['pos'] for s in news['headline_text']]\n"
      ],
      "execution_count": 166,
      "outputs": []
    },
    {
      "cell_type": "code",
      "metadata": {
        "colab": {
          "base_uri": "https://localhost:8080/",
          "height": 203
        },
        "id": "uiJU2Nvc2W4y",
        "outputId": "adb32784-553b-479c-8de0-c65549498ba6"
      },
      "source": [
        "news.head()"
      ],
      "execution_count": 167,
      "outputs": [
        {
          "output_type": "execute_result",
          "data": {
            "text/html": [
              "<div>\n",
              "<style scoped>\n",
              "    .dataframe tbody tr th:only-of-type {\n",
              "        vertical-align: middle;\n",
              "    }\n",
              "\n",
              "    .dataframe tbody tr th {\n",
              "        vertical-align: top;\n",
              "    }\n",
              "\n",
              "    .dataframe thead th {\n",
              "        text-align: right;\n",
              "    }\n",
              "</style>\n",
              "<table border=\"1\" class=\"dataframe\">\n",
              "  <thead>\n",
              "    <tr style=\"text-align: right;\">\n",
              "      <th></th>\n",
              "      <th>publish_date</th>\n",
              "      <th>headline_text</th>\n",
              "      <th>category</th>\n",
              "      <th>Subjectivity</th>\n",
              "      <th>Polarity</th>\n",
              "      <th>Compound</th>\n",
              "      <th>Negative</th>\n",
              "      <th>Neutral</th>\n",
              "      <th>Positive</th>\n",
              "    </tr>\n",
              "  </thead>\n",
              "  <tbody>\n",
              "    <tr>\n",
              "      <th>0</th>\n",
              "      <td>2001-01-02</td>\n",
              "      <td>Status quo will not be disturbed at Ayodhya; s...</td>\n",
              "      <td>unknown</td>\n",
              "      <td>0.000000</td>\n",
              "      <td>0.00</td>\n",
              "      <td>0.2924</td>\n",
              "      <td>0.000</td>\n",
              "      <td>0.805</td>\n",
              "      <td>0.195</td>\n",
              "    </tr>\n",
              "    <tr>\n",
              "      <th>1</th>\n",
              "      <td>2001-01-02</td>\n",
              "      <td>Fissures in Hurriyat over Pak visit</td>\n",
              "      <td>unknown</td>\n",
              "      <td>0.000000</td>\n",
              "      <td>0.00</td>\n",
              "      <td>0.0000</td>\n",
              "      <td>0.000</td>\n",
              "      <td>1.000</td>\n",
              "      <td>0.000</td>\n",
              "    </tr>\n",
              "    <tr>\n",
              "      <th>2</th>\n",
              "      <td>2001-01-02</td>\n",
              "      <td>America's unwanted heading for India?</td>\n",
              "      <td>unknown</td>\n",
              "      <td>0.000000</td>\n",
              "      <td>0.00</td>\n",
              "      <td>-0.2263</td>\n",
              "      <td>0.322</td>\n",
              "      <td>0.678</td>\n",
              "      <td>0.000</td>\n",
              "    </tr>\n",
              "    <tr>\n",
              "      <th>3</th>\n",
              "      <td>2001-01-02</td>\n",
              "      <td>For bigwigs; it is destination Goa</td>\n",
              "      <td>unknown</td>\n",
              "      <td>0.000000</td>\n",
              "      <td>0.00</td>\n",
              "      <td>0.0000</td>\n",
              "      <td>0.000</td>\n",
              "      <td>1.000</td>\n",
              "      <td>0.000</td>\n",
              "    </tr>\n",
              "    <tr>\n",
              "      <th>4</th>\n",
              "      <td>2001-01-02</td>\n",
              "      <td>Extra buses to clear tourist traffic</td>\n",
              "      <td>unknown</td>\n",
              "      <td>0.241667</td>\n",
              "      <td>0.05</td>\n",
              "      <td>0.3818</td>\n",
              "      <td>0.000</td>\n",
              "      <td>0.658</td>\n",
              "      <td>0.342</td>\n",
              "    </tr>\n",
              "  </tbody>\n",
              "</table>\n",
              "</div>"
            ],
            "text/plain": [
              "  publish_date  ... Positive\n",
              "0   2001-01-02  ...    0.195\n",
              "1   2001-01-02  ...    0.000\n",
              "2   2001-01-02  ...    0.000\n",
              "3   2001-01-02  ...    0.000\n",
              "4   2001-01-02  ...    0.342\n",
              "\n",
              "[5 rows x 9 columns]"
            ]
          },
          "metadata": {
            "tags": []
          },
          "execution_count": 167
        }
      ]
    },
    {
      "cell_type": "markdown",
      "metadata": {
        "id": "fqtelwwa2W4z"
      },
      "source": [
        "## Hybrid model - Combining Stocks data and news data"
      ]
    },
    {
      "cell_type": "code",
      "metadata": {
        "id": "M-aWiSiK2W40"
      },
      "source": [
        "news.rename(columns = {'publish_date':'Date'}, inplace = True)"
      ],
      "execution_count": 168,
      "outputs": []
    },
    {
      "cell_type": "code",
      "metadata": {
        "colab": {
          "base_uri": "https://localhost:8080/",
          "height": 203
        },
        "id": "suABLTVK2W40",
        "outputId": "41a97204-8270-4a87-84fb-b8f3393d1f25"
      },
      "source": [
        "df_merge = pd.merge(stocks, news, how='inner', on=['Date'])\n",
        "df_merge.head()"
      ],
      "execution_count": 169,
      "outputs": [
        {
          "output_type": "execute_result",
          "data": {
            "text/html": [
              "<div>\n",
              "<style scoped>\n",
              "    .dataframe tbody tr th:only-of-type {\n",
              "        vertical-align: middle;\n",
              "    }\n",
              "\n",
              "    .dataframe tbody tr th {\n",
              "        vertical-align: top;\n",
              "    }\n",
              "\n",
              "    .dataframe thead th {\n",
              "        text-align: right;\n",
              "    }\n",
              "</style>\n",
              "<table border=\"1\" class=\"dataframe\">\n",
              "  <thead>\n",
              "    <tr style=\"text-align: right;\">\n",
              "      <th></th>\n",
              "      <th>Date</th>\n",
              "      <th>High</th>\n",
              "      <th>Low</th>\n",
              "      <th>Open</th>\n",
              "      <th>Close</th>\n",
              "      <th>Volume</th>\n",
              "      <th>Adj Close</th>\n",
              "      <th>headline_text</th>\n",
              "      <th>category</th>\n",
              "      <th>Subjectivity</th>\n",
              "      <th>Polarity</th>\n",
              "      <th>Compound</th>\n",
              "      <th>Negative</th>\n",
              "      <th>Neutral</th>\n",
              "      <th>Positive</th>\n",
              "    </tr>\n",
              "  </thead>\n",
              "  <tbody>\n",
              "    <tr>\n",
              "      <th>0</th>\n",
              "      <td>2010-01-04</td>\n",
              "      <td>7.660714</td>\n",
              "      <td>7.585</td>\n",
              "      <td>7.6225</td>\n",
              "      <td>7.643214</td>\n",
              "      <td>493729600.0</td>\n",
              "      <td>6.572422</td>\n",
              "      <td>Bebo Khan't stop loving</td>\n",
              "      <td>entertainment</td>\n",
              "      <td>0.95</td>\n",
              "      <td>0.6000</td>\n",
              "      <td>-0.3089</td>\n",
              "      <td>0.447</td>\n",
              "      <td>0.284</td>\n",
              "      <td>0.268</td>\n",
              "    </tr>\n",
              "    <tr>\n",
              "      <th>1</th>\n",
              "      <td>2010-01-04</td>\n",
              "      <td>7.660714</td>\n",
              "      <td>7.585</td>\n",
              "      <td>7.6225</td>\n",
              "      <td>7.643214</td>\n",
              "      <td>493729600.0</td>\n",
              "      <td>6.572422</td>\n",
              "      <td>Chor Bazaari top song of 2009</td>\n",
              "      <td>entertainment</td>\n",
              "      <td>0.50</td>\n",
              "      <td>0.5000</td>\n",
              "      <td>0.2023</td>\n",
              "      <td>0.000</td>\n",
              "      <td>0.735</td>\n",
              "      <td>0.265</td>\n",
              "    </tr>\n",
              "    <tr>\n",
              "      <th>2</th>\n",
              "      <td>2010-01-04</td>\n",
              "      <td>7.660714</td>\n",
              "      <td>7.585</td>\n",
              "      <td>7.6225</td>\n",
              "      <td>7.643214</td>\n",
              "      <td>493729600.0</td>\n",
              "      <td>6.572422</td>\n",
              "      <td>2010...movies; magic 'n' more!</td>\n",
              "      <td>entertainment</td>\n",
              "      <td>0.75</td>\n",
              "      <td>0.5625</td>\n",
              "      <td>0.0000</td>\n",
              "      <td>0.000</td>\n",
              "      <td>1.000</td>\n",
              "      <td>0.000</td>\n",
              "    </tr>\n",
              "    <tr>\n",
              "      <th>3</th>\n",
              "      <td>2010-01-04</td>\n",
              "      <td>7.660714</td>\n",
              "      <td>7.585</td>\n",
              "      <td>7.6225</td>\n",
              "      <td>7.643214</td>\n",
              "      <td>493729600.0</td>\n",
              "      <td>6.572422</td>\n",
              "      <td>Ministers; Bollywood and cricket!</td>\n",
              "      <td>entertainment</td>\n",
              "      <td>0.00</td>\n",
              "      <td>0.0000</td>\n",
              "      <td>0.0000</td>\n",
              "      <td>0.000</td>\n",
              "      <td>1.000</td>\n",
              "      <td>0.000</td>\n",
              "    </tr>\n",
              "    <tr>\n",
              "      <th>4</th>\n",
              "      <td>2010-01-04</td>\n",
              "      <td>7.660714</td>\n",
              "      <td>7.585</td>\n",
              "      <td>7.6225</td>\n",
              "      <td>7.643214</td>\n",
              "      <td>493729600.0</td>\n",
              "      <td>6.572422</td>\n",
              "      <td>Shabana gives a mind-blowing performance!</td>\n",
              "      <td>entertainment</td>\n",
              "      <td>0.00</td>\n",
              "      <td>0.0000</td>\n",
              "      <td>0.0000</td>\n",
              "      <td>0.000</td>\n",
              "      <td>1.000</td>\n",
              "      <td>0.000</td>\n",
              "    </tr>\n",
              "  </tbody>\n",
              "</table>\n",
              "</div>"
            ],
            "text/plain": [
              "        Date      High    Low    Open  ...  Compound  Negative  Neutral Positive\n",
              "0 2010-01-04  7.660714  7.585  7.6225  ...   -0.3089     0.447    0.284    0.268\n",
              "1 2010-01-04  7.660714  7.585  7.6225  ...    0.2023     0.000    0.735    0.265\n",
              "2 2010-01-04  7.660714  7.585  7.6225  ...    0.0000     0.000    1.000    0.000\n",
              "3 2010-01-04  7.660714  7.585  7.6225  ...    0.0000     0.000    1.000    0.000\n",
              "4 2010-01-04  7.660714  7.585  7.6225  ...    0.0000     0.000    1.000    0.000\n",
              "\n",
              "[5 rows x 15 columns]"
            ]
          },
          "metadata": {
            "tags": []
          },
          "execution_count": 169
        }
      ]
    },
    {
      "cell_type": "code",
      "metadata": {
        "scrolled": false,
        "colab": {
          "base_uri": "https://localhost:8080/",
          "height": 203
        },
        "id": "GqvptOEZ2W40",
        "outputId": "04ba2192-287c-47e6-c72b-b1b7dd60d9da"
      },
      "source": [
        "df = df_merge[['Close','Subjectivity', 'Polarity', 'Compound', 'Negative', 'Neutral' ,'Positive']]\n",
        "df.head()\n"
      ],
      "execution_count": 170,
      "outputs": [
        {
          "output_type": "execute_result",
          "data": {
            "text/html": [
              "<div>\n",
              "<style scoped>\n",
              "    .dataframe tbody tr th:only-of-type {\n",
              "        vertical-align: middle;\n",
              "    }\n",
              "\n",
              "    .dataframe tbody tr th {\n",
              "        vertical-align: top;\n",
              "    }\n",
              "\n",
              "    .dataframe thead th {\n",
              "        text-align: right;\n",
              "    }\n",
              "</style>\n",
              "<table border=\"1\" class=\"dataframe\">\n",
              "  <thead>\n",
              "    <tr style=\"text-align: right;\">\n",
              "      <th></th>\n",
              "      <th>Close</th>\n",
              "      <th>Subjectivity</th>\n",
              "      <th>Polarity</th>\n",
              "      <th>Compound</th>\n",
              "      <th>Negative</th>\n",
              "      <th>Neutral</th>\n",
              "      <th>Positive</th>\n",
              "    </tr>\n",
              "  </thead>\n",
              "  <tbody>\n",
              "    <tr>\n",
              "      <th>0</th>\n",
              "      <td>7.643214</td>\n",
              "      <td>0.95</td>\n",
              "      <td>0.6000</td>\n",
              "      <td>-0.3089</td>\n",
              "      <td>0.447</td>\n",
              "      <td>0.284</td>\n",
              "      <td>0.268</td>\n",
              "    </tr>\n",
              "    <tr>\n",
              "      <th>1</th>\n",
              "      <td>7.643214</td>\n",
              "      <td>0.50</td>\n",
              "      <td>0.5000</td>\n",
              "      <td>0.2023</td>\n",
              "      <td>0.000</td>\n",
              "      <td>0.735</td>\n",
              "      <td>0.265</td>\n",
              "    </tr>\n",
              "    <tr>\n",
              "      <th>2</th>\n",
              "      <td>7.643214</td>\n",
              "      <td>0.75</td>\n",
              "      <td>0.5625</td>\n",
              "      <td>0.0000</td>\n",
              "      <td>0.000</td>\n",
              "      <td>1.000</td>\n",
              "      <td>0.000</td>\n",
              "    </tr>\n",
              "    <tr>\n",
              "      <th>3</th>\n",
              "      <td>7.643214</td>\n",
              "      <td>0.00</td>\n",
              "      <td>0.0000</td>\n",
              "      <td>0.0000</td>\n",
              "      <td>0.000</td>\n",
              "      <td>1.000</td>\n",
              "      <td>0.000</td>\n",
              "    </tr>\n",
              "    <tr>\n",
              "      <th>4</th>\n",
              "      <td>7.643214</td>\n",
              "      <td>0.00</td>\n",
              "      <td>0.0000</td>\n",
              "      <td>0.0000</td>\n",
              "      <td>0.000</td>\n",
              "      <td>1.000</td>\n",
              "      <td>0.000</td>\n",
              "    </tr>\n",
              "  </tbody>\n",
              "</table>\n",
              "</div>"
            ],
            "text/plain": [
              "      Close  Subjectivity  Polarity  Compound  Negative  Neutral  Positive\n",
              "0  7.643214          0.95    0.6000   -0.3089     0.447    0.284     0.268\n",
              "1  7.643214          0.50    0.5000    0.2023     0.000    0.735     0.265\n",
              "2  7.643214          0.75    0.5625    0.0000     0.000    1.000     0.000\n",
              "3  7.643214          0.00    0.0000    0.0000     0.000    1.000     0.000\n",
              "4  7.643214          0.00    0.0000    0.0000     0.000    1.000     0.000"
            ]
          },
          "metadata": {
            "tags": []
          },
          "execution_count": 170
        }
      ]
    },
    {
      "cell_type": "code",
      "metadata": {
        "colab": {
          "base_uri": "https://localhost:8080/",
          "height": 203
        },
        "id": "fwaJpdOP2W41",
        "outputId": "d2b59742-1ed6-464a-cd9e-a4a6eb00c0b1"
      },
      "source": [
        "from sklearn.preprocessing import MinMaxScaler\n",
        "sc = MinMaxScaler()\n",
        "new_df = pd.DataFrame(sc.fit_transform(df))\n",
        "new_df.columns = df.columns\n",
        "new_df.index = df.index\n",
        "new_df.head()"
      ],
      "execution_count": 171,
      "outputs": [
        {
          "output_type": "execute_result",
          "data": {
            "text/html": [
              "<div>\n",
              "<style scoped>\n",
              "    .dataframe tbody tr th:only-of-type {\n",
              "        vertical-align: middle;\n",
              "    }\n",
              "\n",
              "    .dataframe tbody tr th {\n",
              "        vertical-align: top;\n",
              "    }\n",
              "\n",
              "    .dataframe thead th {\n",
              "        text-align: right;\n",
              "    }\n",
              "</style>\n",
              "<table border=\"1\" class=\"dataframe\">\n",
              "  <thead>\n",
              "    <tr style=\"text-align: right;\">\n",
              "      <th></th>\n",
              "      <th>Close</th>\n",
              "      <th>Subjectivity</th>\n",
              "      <th>Polarity</th>\n",
              "      <th>Compound</th>\n",
              "      <th>Negative</th>\n",
              "      <th>Neutral</th>\n",
              "      <th>Positive</th>\n",
              "    </tr>\n",
              "  </thead>\n",
              "  <tbody>\n",
              "    <tr>\n",
              "      <th>0</th>\n",
              "      <td>0.006041</td>\n",
              "      <td>0.95</td>\n",
              "      <td>0.80000</td>\n",
              "      <td>0.340604</td>\n",
              "      <td>0.447</td>\n",
              "      <td>0.284</td>\n",
              "      <td>0.268</td>\n",
              "    </tr>\n",
              "    <tr>\n",
              "      <th>1</th>\n",
              "      <td>0.006041</td>\n",
              "      <td>0.50</td>\n",
              "      <td>0.75000</td>\n",
              "      <td>0.604218</td>\n",
              "      <td>0.000</td>\n",
              "      <td>0.735</td>\n",
              "      <td>0.265</td>\n",
              "    </tr>\n",
              "    <tr>\n",
              "      <th>2</th>\n",
              "      <td>0.006041</td>\n",
              "      <td>0.75</td>\n",
              "      <td>0.78125</td>\n",
              "      <td>0.499897</td>\n",
              "      <td>0.000</td>\n",
              "      <td>1.000</td>\n",
              "      <td>0.000</td>\n",
              "    </tr>\n",
              "    <tr>\n",
              "      <th>3</th>\n",
              "      <td>0.006041</td>\n",
              "      <td>0.00</td>\n",
              "      <td>0.50000</td>\n",
              "      <td>0.499897</td>\n",
              "      <td>0.000</td>\n",
              "      <td>1.000</td>\n",
              "      <td>0.000</td>\n",
              "    </tr>\n",
              "    <tr>\n",
              "      <th>4</th>\n",
              "      <td>0.006041</td>\n",
              "      <td>0.00</td>\n",
              "      <td>0.50000</td>\n",
              "      <td>0.499897</td>\n",
              "      <td>0.000</td>\n",
              "      <td>1.000</td>\n",
              "      <td>0.000</td>\n",
              "    </tr>\n",
              "  </tbody>\n",
              "</table>\n",
              "</div>"
            ],
            "text/plain": [
              "      Close  Subjectivity  Polarity  Compound  Negative  Neutral  Positive\n",
              "0  0.006041          0.95   0.80000  0.340604     0.447    0.284     0.268\n",
              "1  0.006041          0.50   0.75000  0.604218     0.000    0.735     0.265\n",
              "2  0.006041          0.75   0.78125  0.499897     0.000    1.000     0.000\n",
              "3  0.006041          0.00   0.50000  0.499897     0.000    1.000     0.000\n",
              "4  0.006041          0.00   0.50000  0.499897     0.000    1.000     0.000"
            ]
          },
          "metadata": {
            "tags": []
          },
          "execution_count": 171
        }
      ]
    },
    {
      "cell_type": "markdown",
      "metadata": {
        "id": "zWHZ8gs62W41"
      },
      "source": [
        "### Spliting Data into Train and test"
      ]
    },
    {
      "cell_type": "code",
      "metadata": {
        "id": "1vVVw57L2W41"
      },
      "source": [
        "X = new_df.drop('Close', axis=1)\n",
        "y =new_df['Close']\n"
      ],
      "execution_count": 172,
      "outputs": []
    },
    {
      "cell_type": "code",
      "metadata": {
        "id": "Nx2iAvNf2W42"
      },
      "source": [
        "from sklearn.model_selection import train_test_split\n",
        "X_train, X_test, Y_train, Y_test = train_test_split(X, y, test_size=0.2, random_state = 0)\n"
      ],
      "execution_count": 173,
      "outputs": []
    },
    {
      "cell_type": "code",
      "metadata": {
        "colab": {
          "base_uri": "https://localhost:8080/"
        },
        "id": "QsyPRL732W42",
        "outputId": "f6a75d0c-ab66-4af2-b614-782931e16d21"
      },
      "source": [
        "X_train.shape , X_test.shape"
      ],
      "execution_count": 174,
      "outputs": [
        {
          "output_type": "execute_result",
          "data": {
            "text/plain": [
              "((1413656, 6), (353415, 6))"
            ]
          },
          "metadata": {
            "tags": []
          },
          "execution_count": 174
        }
      ]
    },
    {
      "cell_type": "code",
      "metadata": {
        "id": "8RSluYwJ2W42"
      },
      "source": [
        "def func_graph(results,names):\n",
        "    fig = plt.figure()\n",
        "    fig.suptitle('MSE value of all Algorithms Comparison')\n",
        "    ax = fig.add_subplot(111)\n",
        "    width = 0.5        \n",
        "    bars=plt.bar(names,results, width, align='center')\n",
        "    ax.set_xticklabels(names)\n",
        "    for bar in bars:\n",
        "        yval = bar.get_height()\n",
        "        plt.text(bar.get_x(), yval +0.005, yval)\n",
        "    plt.show()"
      ],
      "execution_count": 175,
      "outputs": []
    },
    {
      "cell_type": "code",
      "metadata": {
        "id": "ESGJ6yvr2W42"
      },
      "source": [
        "from sklearn import metrics\n",
        "\n",
        "def metric_calc(name,model,category, X_train, Y_train, X_test, Y_test):\n",
        "    if category =='TRAINING DATA' :\n",
        "        X_data= X_train\n",
        "        Y_data=Y_train\n",
        "    else :\n",
        "        X_data= X_test\n",
        "        Y_data=Y_test\n",
        "        \n",
        "    model.fit(X_train, Y_train)\n",
        "    predictions = model.predict(X_data)\n",
        "    mse =round(metrics.mean_squared_error(predictions,Y_data),4)   \n",
        "    print('For ', name, 'MSE-Value is ', mse)\n",
        "    return mse\n"
      ],
      "execution_count": 176,
      "outputs": []
    },
    {
      "cell_type": "code",
      "metadata": {
        "id": "v6MO3fSB2W43"
      },
      "source": [
        "def func_modelling(i) :\n",
        "    count=0\n",
        "    count=count+1\n",
        "    X = X_train[i]\n",
        "    Y = Y_train\n",
        "    x_test = X_test[i]\n",
        "    seed = 7\n",
        "    # preparing models list\n",
        "    models = []\n",
        "    models.append(('Decision Tree',' DecisiontreeRegressor  ', DecisionTreeRegressor()))\n",
        "    models.append(('Random Forest',' RandomForestRegressor  ', RandomForestRegressor()))\n",
        "    models.append(('XG Boost',' XGBRegressor  ', xgboost.XGBRegressor()))\n",
        "    models.append(('LG Boost',' LGBMRegressor ', lightgbm.LGBMRegressor()))\n",
        "    models.append(('ADA Boost',' AdaBoostRegressor ', AdaBoostRegressor()))\n",
        "    results_train = []\n",
        "    results_test = []\n",
        "    names = []\n",
        "    scoring = 'MSE'\n",
        "\n",
        "    print('Metrics calcuated while TRANING the model')\n",
        "    for name,label, model in models:\n",
        "            cv_results_train=metric_calc(name,model,'TRAINING DATA',X,Y, x_test,Y_test)\n",
        "            results_train.append(cv_results_train)\n",
        "            names.append(name)\n",
        "    func_graph(results_train,names)\n",
        "    \n",
        "    print('Evaluating the model on TESTING DATA')\n",
        "    for name,label, model in models:\n",
        "            cv_results_test=metric_calc(name,model,'TESTING DATA',X,Y, x_test,Y_test)\n",
        "            results_test.append(cv_results_test)\n",
        "            #names.append(name)\n",
        "    func_graph(results_test,names)"
      ],
      "execution_count": 177,
      "outputs": []
    },
    {
      "cell_type": "markdown",
      "metadata": {
        "id": "QZ0DRU152W43"
      },
      "source": [
        "### Training the model "
      ]
    },
    {
      "cell_type": "code",
      "metadata": {
        "colab": {
          "base_uri": "https://localhost:8080/",
          "height": 1000
        },
        "id": "KJ5cl3RE2W43",
        "outputId": "dcc63efa-8e01-4f6f-8031-fd903dd9ad0e"
      },
      "source": [
        "func_modelling(X_train.columns)"
      ],
      "execution_count": 178,
      "outputs": [
        {
          "output_type": "stream",
          "text": [
            "Metrics calcuated while TRANING the model\n",
            "For  Decision Tree MSE-Value is  0.0245\n",
            "For  Random Forest MSE-Value is  0.025\n",
            "[16:07:14] WARNING: /workspace/src/objective/regression_obj.cu:152: reg:linear is now deprecated in favor of reg:squarederror.\n",
            "For  XG Boost MSE-Value is  0.0289\n",
            "For  LG Boost MSE-Value is  0.0286\n",
            "For  ADA Boost MSE-Value is  0.0323\n"
          ],
          "name": "stdout"
        },
        {
          "output_type": "display_data",
          "data": {
            "image/png": "[encoded data removed]",
            "text/plain": [
              "<Figure size 720x720 with 1 Axes>"
            ]
          },
          "metadata": {
            "tags": [],
            "needs_background": "light"
          }
        },
        {
          "output_type": "stream",
          "text": [
            "Evaluating the model on TESTING DATA\n",
            "For  Decision Tree MSE-Value is  0.032\n",
            "For  Random Forest MSE-Value is  0.0292\n",
            "[16:15:24] WARNING: /workspace/src/objective/regression_obj.cu:152: reg:linear is now deprecated in favor of reg:squarederror.\n",
            "For  XG Boost MSE-Value is  0.0287\n",
            "For  LG Boost MSE-Value is  0.0285\n",
            "For  ADA Boost MSE-Value is  0.0321\n"
          ],
          "name": "stdout"
        },
        {
          "output_type": "display_data",
          "data": {
            "image/png": "[encoded data removed]",
            "text/plain": [
              "<Figure size 720x720 with 1 Axes>"
            ]
          },
          "metadata": {
            "tags": [],
            "needs_background": "light"
          }
        }
      ]
    },
    {
      "cell_type": "markdown",
      "metadata": {
        "id": "JFE1xEyI2W43"
      },
      "source": [
        "LGBMRegressor has the least MSE and it has performed best for sentimental Anaylsis to predict if the stock close price with either increase or decrease depending on the news on that day."
      ]
    },
    {
      "cell_type": "code",
      "metadata": {
        "id": "YRuTiyc72W44"
      },
      "source": [
        ""
      ],
      "execution_count": null,
      "outputs": []
    }
  ]
}